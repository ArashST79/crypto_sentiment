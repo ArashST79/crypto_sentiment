{
 "cells": [
  {
   "cell_type": "code",
   "execution_count": 1,
   "metadata": {},
   "outputs": [
    {
     "name": "stderr",
     "output_type": "stream",
     "text": [
      "c:\\Users\\Asus\\AppData\\Local\\Programs\\Python\\Python39\\lib\\site-packages\\requests\\__init__.py:102: RequestsDependencyWarning: urllib3 (1.26.18) or chardet (5.2.0)/charset_normalizer (2.0.12) doesn't match a supported version!\n",
      "  warnings.warn(\"urllib3 ({}) or chardet ({})/charset_normalizer ({}) doesn't match a supported \"\n"
     ]
    },
    {
     "name": "stdout",
     "output_type": "stream",
     "text": [
      "WARNING:tensorflow:From c:\\Users\\Asus\\AppData\\Local\\Programs\\Python\\Python39\\lib\\site-packages\\keras\\src\\losses.py:2976: The name tf.losses.sparse_softmax_cross_entropy is deprecated. Please use tf.compat.v1.losses.sparse_softmax_cross_entropy instead.\n",
      "\n"
     ]
    }
   ],
   "source": [
    "import yfinance as yf\n",
    "import matplotlib.pyplot as plt\n",
    "import pandas as pd\n",
    "import sys\n",
    "sys.path.append('../')\n",
    "sys.path.append('../scripts')\n",
    "from scripts.data_handler import DataOrganize\n"
   ]
  },
  {
   "cell_type": "code",
   "execution_count": 2,
   "metadata": {},
   "outputs": [],
   "source": [
    "import glob\n",
    "\n",
    "files = glob.glob('../data/StockTwits.*_messages.csv')\n",
    "\n",
    "# Initialize an empty list to store dataframes\n",
    "dfs = []\n",
    "\n",
    "# Loop through each file and load the first 1000 rows into a dataframe\n",
    "for file in files:\n",
    "    df = pd.read_csv(file, nrows=100)\n",
    "    dfs.append(df)\n",
    "\n",
    "data = pd.concat(dfs, ignore_index=True)"
   ]
  },
  {
   "cell_type": "code",
   "execution_count": 3,
   "metadata": {},
   "outputs": [
    {
     "name": "stderr",
     "output_type": "stream",
     "text": [
      "100%|██████████| 1000/1000 [00:18<00:00, 54.33it/s]\n",
      "d:\\University\\researches\\fazli\\code\\crypto_sentiment\\Notebooks\\..\\scripts\\data_analysis.py:59: PerformanceWarning: DataFrame is highly fragmented.  This is usually the result of calling `frame.insert` many times, which has poor performance.  Consider joining all columns at once using pd.concat(axis=1) instead.  To get a de-fragmented frame, use `newframe = frame.copy()`\n",
      "  raw_data['language'], raw_data['entities'] = zip(*[extract_features(str(x)) for x in tqdm(raw_data['body'])])\n"
     ]
    },
    {
     "name": "stdout",
     "output_type": "stream",
     "text": [
      "<class 'str'>\n"
     ]
    },
    {
     "name": "stderr",
     "output_type": "stream",
     "text": [
      "100%|██████████| 658/658 [00:00<00:00, 20616.07it/s]\n"
     ]
    }
   ],
   "source": [
    "data_organize = DataOrganize(data)\n",
    "data_organize.clean_data()"
   ]
  },
  {
   "cell_type": "code",
   "execution_count": 4,
   "metadata": {},
   "outputs": [],
   "source": [
    "coins_list = [\n",
    "    {\"name\": \"Cardano\", \"symbol\": \"ADA\"},\n",
    "    {\"name\": \"Avalanche\", \"symbol\": \"AVAX\"},\n",
    "    {\"name\": \"Binance Coin\", \"symbol\": \"BNB\"},\n",
    "    {\"name\": \"Bitcoin\", \"symbol\": \"BTC\"},\n",
    "    {\"name\": \"Dogecoin\", \"symbol\": \"DOGE\"},\n",
    "    {\"name\": \"Polkadot\", \"symbol\": \"DOT\"},\n",
    "    {\"name\": \"Ethereum\", \"symbol\": \"ETH\"},\n",
    "    {\"name\": \"Polygon\", \"symbol\": \"MATIC\"},\n",
    "    {\"name\": \"Solana\", \"symbol\": \"SOL\"},\n",
    "    {\"name\": \"TRON\", \"symbol\": \"TRX\"},\n",
    "    {\"name\": \"Ripple\", \"symbol\": \"XRP\"}\n",
    "]"
   ]
  },
  {
   "cell_type": "code",
   "execution_count": 5,
   "metadata": {},
   "outputs": [
    {
     "name": "stderr",
     "output_type": "stream",
     "text": [
      "  0%|          | 0/658 [00:00<?, ?it/s]"
     ]
    },
    {
     "name": "stderr",
     "output_type": "stream",
     "text": [
      "100%|██████████| 658/658 [00:09<00:00, 66.23it/s]\n"
     ]
    }
   ],
   "source": [
    "\n",
    "coins_name = [coin['name'] for coin in coins_list]\n",
    "coins_symbol = [coin['symbol'] for coin in coins_list]\n",
    "data_organize.filter_by_coin(coins_name,coins_symbol)\n",
    "data_organize.analyze_sentiment()"
   ]
  },
  {
   "cell_type": "code",
   "execution_count": 10,
   "metadata": {},
   "outputs": [
    {
     "name": "stdout",
     "output_type": "stream",
     "text": [
      "{'ADA': 0.45400205263304694, 'AVAX': 0.28783670015532453, 'BTC': 0.2581612472116285}\n"
     ]
    }
   ],
   "source": [
    "from datetime import datetime\n",
    "from importlib import reload\n",
    "from scripts.portfolio_manager import PortfolioManager\n",
    "portfolio = PortfolioManager(coins_list,data_organize.data)\n",
    "date_string = \"17 November 2023\"\n",
    "\n",
    "current_date = pd.to_datetime(date_string, format=\"%d %B %Y\")\n",
    "weights = portfolio.getWeights(current_date)\n",
    "print(weights)"
   ]
  },
  {
   "cell_type": "code",
   "execution_count": 11,
   "metadata": {},
   "outputs": [
    {
     "name": "stdout",
     "output_type": "stream",
     "text": [
      "            Date   ADA-USD   AVAX-USD     BNB-USD       BTC-USD  DOGE-USD  \\\n",
      "222   2021-05-02  1.351402  31.794001  619.972107  57825.863281  0.391087   \n",
      "223   2021-05-03  1.326938  31.324923  621.902710  56620.273438  0.373631   \n",
      "224   2021-05-04  1.362939  35.876583  676.315918  57214.179688  0.440274   \n",
      "225   2021-05-05  1.270986  30.292955  609.331055  53252.164062  0.537355   \n",
      "226   2021-05-06  1.478110  35.253933  651.049500  57441.308594  0.652842   \n",
      "...          ...       ...        ...         ...           ...       ...   \n",
      "1198  2024-01-03  0.605669  40.645931  312.151611  44961.601562  0.091205   \n",
      "1199  2024-01-04  0.557277  36.795128  316.624451  42855.816406  0.082049   \n",
      "1200  2024-01-05  0.570543  38.737286  323.620239  44192.980469  0.084121   \n",
      "1201  2024-01-06  0.541309  36.434498  317.495178  44178.953125  0.082773   \n",
      "1202  2024-01-07  0.523169  34.629585  307.794067  43998.464844  0.080668   \n",
      "\n",
      "        DOT-USD      ETH-USD  MATIC-USD     SOL-USD   TRX-USD   XRP-USD  \n",
      "222   36.897781  2945.560059   0.785502   49.500805  0.131055  1.651960  \n",
      "223   36.639145  2951.175781   0.822579   46.903976  0.127648  1.562493  \n",
      "224   37.256771  3431.131592   0.795066   45.983360  0.131698  1.555954  \n",
      "225   34.767815  3240.554688   0.703297   42.637238  0.119182  1.388070  \n",
      "226   40.442459  3524.930908   0.809184   44.974052  0.146491  1.615507  \n",
      "...         ...          ...        ...         ...       ...       ...  \n",
      "1198   8.412877  2355.981445   0.969739  106.616531  0.108372  0.625381  \n",
      "1199   7.641465  2210.529053   0.855390   98.586975  0.106821  0.582577  \n",
      "1200   7.881258  2269.409424   0.883398  105.052010  0.107081  0.588197  \n",
      "1201   7.445598  2269.540039   0.852229   99.987991  0.104461  0.576512  \n",
      "1202   7.139665  2242.012695   0.828290   93.860352  0.103913  0.568521  \n",
      "\n",
      "[981 rows x 12 columns]\n"
     ]
    },
    {
     "name": "stderr",
     "output_type": "stream",
     "text": [
      "c:\\Users\\Asus\\AppData\\Local\\Programs\\Python\\Python39\\lib\\site-packages\\pandas\\core\\ops\\array_ops.py:73: FutureWarning: Comparison of Timestamp with datetime.date is deprecated in order to match the standard library behavior.  In a future version these will be considered non-comparable.Use 'ts == pd.Timestamp(date)' or 'ts.date() == date' instead.\n",
      "  result = libops.scalar_compare(x.ravel(), y, op)\n"
     ]
    }
   ],
   "source": [
    "\n",
    "weights = {key + '-USD': value*100 for key, value in weights.items()}\n",
    "average_index = {}\n",
    "for coin in coins_list:\n",
    "  coin_symbol = coin['symbol']\n",
    "  average_index[coin_symbol] = 1/len(coins_list)\n",
    "\n",
    "average_index = {key + '-USD': value*100 for key, value in average_index.items()}\n",
    "\n",
    "members = []\n",
    "members+=average_index.keys()\n",
    "\n",
    "\n",
    "def PortfolioCalc(weightings, data, name):\n",
    "  data[name] = sum([  int(weightings[x])*data[x]/100 for x in list(weightings.keys())   ])\n",
    "  return data\n",
    "\n",
    "basedata = yf.Ticker(members[0]).history(period=\"max\").reset_index()[[\"Date\",\"Open\"]]\n",
    "basedata[\"Date\"] = pd.to_datetime(basedata[\"Date\"])\n",
    "basedata[\"Date\"] = basedata[\"Date\"].dt.date\n",
    "basedata = basedata.rename(columns = {\"Open\":members[0]})\n",
    "if (len(members)>1):\n",
    "  for x in range(1,len(members)):\n",
    "    newdata = yf.Ticker(members[x]).history(period=\"max\").reset_index()[[\"Date\",\"Open\"]]\n",
    "    newdata[\"Date\"] = pd.to_datetime(newdata[\"Date\"])\n",
    "    newdata[\"Date\"] = newdata[\"Date\"].dt.date\n",
    "    newdata = newdata.rename(columns = {\"Open\":members[x]})\n",
    "    basedata = pd.merge(basedata, newdata, on=\"Date\")\n",
    "\n",
    "basedata = basedata[  basedata[\"Date\"] > pd.to_datetime(\"2021-05-01\")]\n",
    "print(basedata)"
   ]
  },
  {
   "cell_type": "code",
   "execution_count": 12,
   "metadata": {},
   "outputs": [],
   "source": [
    "for x in members:\n",
    "  basedata[x] = basedata[x]/(basedata[x].iloc[0])\n",
    "\n",
    "basedata = PortfolioCalc(weights, basedata, \"crypto1\")\n",
    "basedata = PortfolioCalc(average_index, basedata, \"crypto2\")"
   ]
  },
  {
   "cell_type": "code",
   "execution_count": 13,
   "metadata": {},
   "outputs": [
    {
     "data": {
      "image/png": "[encoded data removed]",
      "text/plain": [
       "<Figure size 432x288 with 1 Axes>"
      ]
     },
     "metadata": {
      "needs_background": "dark"
     },
     "output_type": "display_data"
    }
   ],
   "source": [
    "plt.style.use(\"dark_background\")\n",
    "\n",
    "plt.plot(basedata[\"Date\"], basedata[\"crypto1\"], label = ', '.join(weights.keys()))\n",
    "plt.plot(basedata[\"Date\"], basedata[\"crypto2\"], label = \"??\")\n",
    "\n",
    "plt.legend(loc=\"upper left\")\n",
    "plt.show()"
   ]
  }
 ],
 "metadata": {
  "kernelspec": {
   "display_name": "Python 3",
   "language": "python",
   "name": "python3"
  },
  "language_info": {
   "codemirror_mode": {
    "name": "ipython",
    "version": 3
   },
   "file_extension": ".py",
   "mimetype": "text/x-python",
   "name": "python",
   "nbconvert_exporter": "python",
   "pygments_lexer": "ipython3",
   "version": "3.9.6"
  },
  "orig_nbformat": 4
 },
 "nbformat": 4,
 "nbformat_minor": 2
}
