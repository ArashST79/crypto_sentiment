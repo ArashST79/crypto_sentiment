{
 "cells": [
  {
   "cell_type": "code",
   "execution_count": 1,
   "metadata": {},
   "outputs": [
    {
     "name": "stderr",
     "output_type": "stream",
     "text": [
      "c:\\Users\\Asus\\AppData\\Local\\Programs\\Python\\Python39\\lib\\site-packages\\requests\\__init__.py:102: RequestsDependencyWarning: urllib3 (1.26.18) or chardet (5.2.0)/charset_normalizer (2.0.12) doesn't match a supported version!\n",
      "  warnings.warn(\"urllib3 ({}) or chardet ({})/charset_normalizer ({}) doesn't match a supported \"\n"
     ]
    },
    {
     "name": "stdout",
     "output_type": "stream",
     "text": [
      "WARNING:tensorflow:From c:\\Users\\Asus\\AppData\\Local\\Programs\\Python\\Python39\\lib\\site-packages\\keras\\src\\losses.py:2976: The name tf.losses.sparse_softmax_cross_entropy is deprecated. Please use tf.compat.v1.losses.sparse_softmax_cross_entropy instead.\n",
      "\n"
     ]
    }
   ],
   "source": [
    "import yfinance as yf\n",
    "import matplotlib.pyplot as plt\n",
    "import pandas as pd\n",
    "import sys\n",
    "sys.path.append('../')\n",
    "sys.path.append('../scripts')\n",
    "from scripts.data_handler import DataOrganize, DataModes\n"
   ]
  },
  {
   "cell_type": "code",
   "execution_count": 2,
   "metadata": {},
   "outputs": [
    {
     "name": "stderr",
     "output_type": "stream",
     "text": [
      "100%|██████████| 1000/1000 [00:14<00:00, 68.66it/s]\n",
      "100%|██████████| 715/715 [00:00<00:00, 56773.14it/s]"
     ]
    },
    {
     "name": "stdout",
     "output_type": "stream",
     "text": [
      "day type :<class 'datetime.date'>\n"
     ]
    },
    {
     "name": "stderr",
     "output_type": "stream",
     "text": [
      "\n"
     ]
    },
    {
     "data": {
      "text/html": [
       "<div>\n",
       "<style scoped>\n",
       "    .dataframe tbody tr th:only-of-type {\n",
       "        vertical-align: middle;\n",
       "    }\n",
       "\n",
       "    .dataframe tbody tr th {\n",
       "        vertical-align: top;\n",
       "    }\n",
       "\n",
       "    .dataframe thead th {\n",
       "        text-align: right;\n",
       "    }\n",
       "</style>\n",
       "<table border=\"1\" class=\"dataframe\">\n",
       "  <thead>\n",
       "    <tr style=\"text-align: right;\">\n",
       "      <th></th>\n",
       "      <th>body</th>\n",
       "      <th>created_at</th>\n",
       "      <th>user.followers</th>\n",
       "      <th>entities.sentiment.basic</th>\n",
       "      <th>Day</th>\n",
       "    </tr>\n",
       "  </thead>\n",
       "  <tbody>\n",
       "    <tr>\n",
       "      <th>0</th>\n",
       "      <td>$DOGE.X  gained watchers</td>\n",
       "      <td>2023-04-16T21:31:28Z</td>\n",
       "      <td>86</td>\n",
       "      <td>Bullish</td>\n",
       "      <td>2023-04-16</td>\n",
       "    </tr>\n",
       "    <tr>\n",
       "      <th>1</th>\n",
       "      <td>$DOGE.X a lil boop</td>\n",
       "      <td>2023-07-11T23:22:59Z</td>\n",
       "      <td>75</td>\n",
       "      <td>Bullish</td>\n",
       "      <td>2023-07-11</td>\n",
       "    </tr>\n",
       "    <tr>\n",
       "      <th>2</th>\n",
       "      <td>$XRP.X This guy is the 🤡</td>\n",
       "      <td>2023-07-20T14:43:06Z</td>\n",
       "      <td>39</td>\n",
       "      <td>Bullish</td>\n",
       "      <td>2023-07-20</td>\n",
       "    </tr>\n",
       "    <tr>\n",
       "      <th>3</th>\n",
       "      <td>$XRP.X So the best way to stay long without sw...</td>\n",
       "      <td>2023-06-12T02:35:00Z</td>\n",
       "      <td>199</td>\n",
       "      <td>NaN</td>\n",
       "      <td>2023-06-12</td>\n",
       "    </tr>\n",
       "    <tr>\n",
       "      <th>5</th>\n",
       "      <td>$BTC.X BITCOIN IS SAFE! 15TH YEAR TODAY! This ...</td>\n",
       "      <td>2023-10-31T20:42:38Z</td>\n",
       "      <td>177</td>\n",
       "      <td>Bullish</td>\n",
       "      <td>2023-10-31</td>\n",
       "    </tr>\n",
       "    <tr>\n",
       "      <th>...</th>\n",
       "      <td>...</td>\n",
       "      <td>...</td>\n",
       "      <td>...</td>\n",
       "      <td>...</td>\n",
       "      <td>...</td>\n",
       "    </tr>\n",
       "    <tr>\n",
       "      <th>993</th>\n",
       "      <td>$CLSK miners should be up huge tomorrow!!! Can...</td>\n",
       "      <td>2023-10-23T03:59:30Z</td>\n",
       "      <td>4</td>\n",
       "      <td>Bullish</td>\n",
       "      <td>2023-10-23</td>\n",
       "    </tr>\n",
       "    <tr>\n",
       "      <th>994</th>\n",
       "      <td>$XRP.X  definition of retardation ⬇️😂they try ...</td>\n",
       "      <td>2023-11-13T21:32:24Z</td>\n",
       "      <td>29</td>\n",
       "      <td>NaN</td>\n",
       "      <td>2023-11-13</td>\n",
       "    </tr>\n",
       "    <tr>\n",
       "      <th>995</th>\n",
       "      <td>$AVAX.X $SOL.X finally I&amp;#39;m green on both p...</td>\n",
       "      <td>2023-01-11T23:00:57Z</td>\n",
       "      <td>145</td>\n",
       "      <td>Bullish</td>\n",
       "      <td>2023-01-11</td>\n",
       "    </tr>\n",
       "    <tr>\n",
       "      <th>996</th>\n",
       "      <td>$XRP.X so...what&amp;#39;s the bull narrative now?...</td>\n",
       "      <td>2023-07-27T13:30:41Z</td>\n",
       "      <td>0</td>\n",
       "      <td>NaN</td>\n",
       "      <td>2023-07-27</td>\n",
       "    </tr>\n",
       "    <tr>\n",
       "      <th>997</th>\n",
       "      <td>$BTC.X  Everyone for themselves. Don&amp;#39;t pre...</td>\n",
       "      <td>2023-10-16T16:35:46Z</td>\n",
       "      <td>0</td>\n",
       "      <td>NaN</td>\n",
       "      <td>2023-10-16</td>\n",
       "    </tr>\n",
       "  </tbody>\n",
       "</table>\n",
       "<p>715 rows × 5 columns</p>\n",
       "</div>"
      ],
      "text/plain": [
       "                                                  body            created_at  \\\n",
       "0                             $DOGE.X  gained watchers  2023-04-16T21:31:28Z   \n",
       "1                                   $DOGE.X a lil boop  2023-07-11T23:22:59Z   \n",
       "2                             $XRP.X This guy is the 🤡  2023-07-20T14:43:06Z   \n",
       "3    $XRP.X So the best way to stay long without sw...  2023-06-12T02:35:00Z   \n",
       "5    $BTC.X BITCOIN IS SAFE! 15TH YEAR TODAY! This ...  2023-10-31T20:42:38Z   \n",
       "..                                                 ...                   ...   \n",
       "993  $CLSK miners should be up huge tomorrow!!! Can...  2023-10-23T03:59:30Z   \n",
       "994  $XRP.X  definition of retardation ⬇️😂they try ...  2023-11-13T21:32:24Z   \n",
       "995  $AVAX.X $SOL.X finally I&#39;m green on both p...  2023-01-11T23:00:57Z   \n",
       "996  $XRP.X so...what&#39;s the bull narrative now?...  2023-07-27T13:30:41Z   \n",
       "997  $BTC.X  Everyone for themselves. Don&#39;t pre...  2023-10-16T16:35:46Z   \n",
       "\n",
       "     user.followers entities.sentiment.basic         Day  \n",
       "0                86                  Bullish  2023-04-16  \n",
       "1                75                  Bullish  2023-07-11  \n",
       "2                39                  Bullish  2023-07-20  \n",
       "3               199                      NaN  2023-06-12  \n",
       "5               177                  Bullish  2023-10-31  \n",
       "..              ...                      ...         ...  \n",
       "993               4                  Bullish  2023-10-23  \n",
       "994              29                      NaN  2023-11-13  \n",
       "995             145                  Bullish  2023-01-11  \n",
       "996               0                      NaN  2023-07-27  \n",
       "997               0                      NaN  2023-10-16  \n",
       "\n",
       "[715 rows x 5 columns]"
      ]
     },
     "execution_count": 2,
     "metadata": {},
     "output_type": "execute_result"
    }
   ],
   "source": [
    "\n",
    "data_organize = DataOrganize()\n",
    "data_organize.create_clean_data(mode=DataModes.RANDOM_1000)"
   ]
  },
  {
   "cell_type": "code",
   "execution_count": 3,
   "metadata": {},
   "outputs": [],
   "source": [
    "coins_list = [\n",
    "    {\"name\": \"Cardano\", \"symbol\": \"ADA\"},\n",
    "    {\"name\": \"Avalanche\", \"symbol\": \"AVAX\"},\n",
    "    {\"name\": \"Binance Coin\", \"symbol\": \"BNB\"},\n",
    "    {\"name\": \"Bitcoin\", \"symbol\": \"BTC\"},\n",
    "    {\"name\": \"Dogecoin\", \"symbol\": \"DOGE\"},\n",
    "    {\"name\": \"Polkadot\", \"symbol\": \"DOT\"},\n",
    "    {\"name\": \"Ethereum\", \"symbol\": \"ETH\"},\n",
    "    {\"name\": \"Polygon\", \"symbol\": \"MATIC\"},\n",
    "    {\"name\": \"Solana\", \"symbol\": \"SOL\"},\n",
    "    {\"name\": \"TRON\", \"symbol\": \"TRX\"},\n",
    "    {\"name\": \"Ripple\", \"symbol\": \"XRP\"}\n",
    "]"
   ]
  },
  {
   "cell_type": "code",
   "execution_count": 4,
   "metadata": {},
   "outputs": [
    {
     "name": "stderr",
     "output_type": "stream",
     "text": [
      "CryptoBERT Sentiment Analysis: 100%|██████████| 715/715 [00:59<00:00, 12.02it/s]\n"
     ]
    }
   ],
   "source": [
    "data_organize.coins_sentiment_apply(coins_list)"
   ]
  },
  {
   "cell_type": "code",
   "execution_count": 5,
   "metadata": {},
   "outputs": [],
   "source": [
    "from datetime import datetime\n",
    "from importlib import reload\n",
    "from scripts.portfolio_manager import PortfolioManager\n",
    "portfolio_manager = PortfolioManager(coins_list,data_organize.data)\n",
    "\n",
    "from scripts.portfolio_manager import get_averageindex_weights\n",
    "average_weights = get_averageindex_weights(coins_list)\n",
    "members = [coin[\"symbol\"] + \"-USD\" for coin in coins_list]\n"
   ]
  },
  {
   "cell_type": "code",
   "execution_count": 13,
   "metadata": {},
   "outputs": [
    {
     "name": "stdout",
     "output_type": "stream",
     "text": [
      "            Date   ADA-USD   AVAX-USD     BNB-USD       BTC-USD  DOGE-USD  \\\n",
      "1124  2023-10-21  0.251122   9.220747  212.298523  29683.380859  0.059965   \n",
      "1125  2023-10-22  0.258589   9.639973  214.321732  29918.654297  0.061189   \n",
      "1126  2023-10-23  0.265028  10.061647  218.455917  30140.685547  0.061828   \n",
      "1127  2023-10-24  0.279988  10.566506  228.338303  33077.304688  0.067111   \n",
      "1128  2023-10-25  0.279034  10.316444  225.168640  33916.042969  0.066564   \n",
      "1129  2023-10-26  0.280594  10.512311  222.185516  34504.289062  0.068364   \n",
      "1130  2023-10-27  0.287255  11.053291  223.219086  34156.500000  0.071872   \n",
      "1131  2023-10-28  0.289501  10.598121  224.471512  33907.722656  0.067882   \n",
      "1132  2023-10-29  0.291269  10.973466  225.787994  34089.371094  0.069002   \n",
      "1133  2023-10-30  0.295305  11.362217  227.134918  34531.742188  0.069359   \n",
      "1134  2023-10-31  0.302774  11.454303  228.282364  34500.078125  0.069648   \n",
      "1135  2023-11-01  0.293126  11.324826  226.418167  34657.273438  0.068279   \n",
      "1136  2023-11-02  0.307450  12.211411  228.016647  35441.578125  0.068859   \n",
      "1137  2023-11-03  0.323148  11.889075  231.703262  34942.472656  0.067931   \n",
      "1138  2023-11-04  0.329031  12.111002  230.597488  34736.324219  0.068147   \n",
      "1139  2023-11-05  0.328553  12.218108  237.442230  35090.011719  0.069079   \n",
      "1140  2023-11-06  0.342859  12.366372  244.320450  35044.789062  0.071224   \n",
      "1141  2023-11-07  0.363293  13.079465  254.653290  35047.792969  0.076389   \n",
      "1142  2023-11-08  0.351583  12.822822  246.390121  35419.476562  0.073517   \n",
      "1143  2023-11-09  0.358323  13.019595  247.052170  35633.632812  0.075474   \n",
      "1144  2023-11-10  0.368388  12.972206  251.526825  36702.250000  0.073465   \n",
      "1145  2023-11-11  0.386226  14.748072  251.098480  37310.070312  0.075445   \n",
      "1146  2023-11-12  0.384544  16.790001  251.434418  37133.992188  0.078420   \n",
      "1147  2023-11-13  0.383414  18.859402  247.640472  37070.304688  0.077980   \n",
      "1148  2023-11-14  0.358315  16.218246  241.369843  36491.789062  0.074778   \n",
      "1149  2023-11-15  0.357882  17.091831  242.281006  35548.113281  0.072456   \n",
      "1150  2023-11-16  0.379283  20.734901  253.744781  37879.980469  0.076353   \n",
      "1151  2023-11-17  0.371791  21.766766  242.839951  36164.824219  0.079326   \n",
      "1152  2023-11-18  0.366795  21.940165  244.746262  36625.371094  0.086327   \n",
      "1153  2023-11-19  0.377688  21.996801  244.967682  36585.765625  0.080395   \n",
      "\n",
      "       DOT-USD      ETH-USD  MATIC-USD    SOL-USD   TRX-USD   XRP-USD  \n",
      "1124  3.721239  1604.822266   0.536058  27.034481  0.090764  0.515990  \n",
      "1125  3.905255  1629.297729   0.572719  29.384228  0.091602  0.521198  \n",
      "1126  3.981359  1674.849243   0.618359  29.262220  0.090394  0.523598  \n",
      "1127  4.349509  1766.014648   0.635635  31.849657  0.092226  0.546893  \n",
      "1128  4.186937  1784.905029   0.624577  30.151220  0.092361  0.558620  \n",
      "1129  4.285379  1787.481934   0.630322  32.461857  0.093494  0.555353  \n",
      "1130  4.236472  1803.794922   0.632232  32.776436  0.092845  0.553685  \n",
      "1131  4.139181  1780.084229   0.609728  31.739922  0.093625  0.545715  \n",
      "1132  4.180194  1776.563965   0.620640  31.652102  0.094329  0.545372  \n",
      "1133  4.312788  1795.589111   0.638249  32.819035  0.094876  0.556390  \n",
      "1134  4.527865  1810.131592   0.649966  34.959831  0.095613  0.578928  \n",
      "1135  4.451050  1815.872070   0.635974  38.513058  0.097167  0.600295  \n",
      "1136  4.730876  1847.259888   0.668195  41.385948  0.100255  0.609544  \n",
      "1137  4.635338  1800.916504   0.660989  40.208927  0.099291  0.606386  \n",
      "1138  4.615282  1833.368896   0.671973  39.520210  0.097320  0.613040  \n",
      "1139  4.690704  1857.395630   0.677867  42.373367  0.097765  0.616180  \n",
      "1140  4.772786  1894.027100   0.693315  41.238564  0.098220  0.661127  \n",
      "1141  4.968561  1900.599731   0.735448  42.137772  0.097721  0.715505  \n",
      "1142  4.931319  1887.119019   0.742038  43.085918  0.096671  0.686320  \n",
      "1143  5.052426  1888.940308   0.789423  43.181870  0.098408  0.688031  \n",
      "1144  5.087687  2121.067383   0.855869  45.442371  0.098906  0.667603  \n",
      "1145  5.300643  2078.058350   0.844268  56.640995  0.106235  0.660560  \n",
      "1146  5.553712  2053.118652   0.802941  56.132030  0.107988  0.662748  \n",
      "1147  5.708606  2045.354492   0.897664  56.180626  0.108418  0.661598  \n",
      "1148  5.367783  2054.765381   0.884189  51.902218  0.107145  0.671494  \n",
      "1149  5.202481  1979.472656   0.915899  56.839939  0.102278  0.629726  \n",
      "1150  5.566462  2059.965820   0.921989  65.539444  0.104108  0.649609  \n",
      "1151  5.358032  1961.867554   0.846520  57.921040  0.102405  0.612199  \n",
      "1152  5.242760  1961.671265   0.830868  58.392673  0.103674  0.613738  \n",
      "1153  5.291365  1963.180054   0.832049  58.524284  0.103008  0.611187  \n"
     ]
    },
    {
     "name": "stderr",
     "output_type": "stream",
     "text": [
      "c:\\Users\\Asus\\AppData\\Local\\Programs\\Python\\Python39\\lib\\site-packages\\pandas\\core\\ops\\array_ops.py:73: FutureWarning: Comparison of Timestamp with datetime.date is deprecated in order to match the standard library behavior.  In a future version these will be considered non-comparable.Use 'ts == pd.Timestamp(date)' or 'ts.date() == date' instead.\n",
      "  result = libops.scalar_compare(x.ravel(), y, op)\n"
     ]
    }
   ],
   "source": [
    "\n",
    "# price_data = yf.Ticker(members[0]).history(period=\"max\").reset_index()[[\"Date\",\"Open\"]]\n",
    "# price_data[\"Date\"] = pd.to_datetime(price_data[\"Date\"])\n",
    "# price_data[\"Date\"] = price_data[\"Date\"].dt.date\n",
    "# price_data = price_data.rename(columns = {\"Open\":members[0]})\n",
    "# if (len(members)>1):\n",
    "#   for x in range(1,len(members)):\n",
    "#     newdata = yf.Ticker(members[x]).history(period=\"max\").reset_index()[[\"Date\",\"Open\"]]\n",
    "#     newdata[\"Date\"] = pd.to_datetime(newdata[\"Date\"])\n",
    "#     newdata[\"Date\"] = newdata[\"Date\"].dt.date\n",
    "#     newdata = newdata.rename(columns = {\"Open\":members[x]})\n",
    "#     price_data = pd.merge(price_data, newdata, on=\"Date\")\n",
    "\n",
    "# file_path = '../data/price_data.csv'\n",
    "# price_data.to_csv(file_path, index=False)\n",
    "# print(f\"Data saved to {file_path}\")\n",
    "\n",
    "price_data = pd.read_csv('../data/price_data.csv')\n",
    "price_data[\"Date\"] = pd.to_datetime(price_data[\"Date\"])\n",
    "price_data[\"Date\"] = price_data[\"Date\"].dt.date\n",
    "\n",
    "start_date = \"2023-10-20\"\n",
    "end_date = \"2023-11-20\"\n",
    "price_data = price_data[(price_data[\"Date\"] > pd.to_datetime(start_date)) & (price_data[\"Date\"] < pd.to_datetime(end_date))]\n",
    "print(price_data)\n"
   ]
  },
  {
   "cell_type": "code",
   "execution_count": 14,
   "metadata": {},
   "outputs": [
    {
     "name": "stderr",
     "output_type": "stream",
     "text": [
      "d:\\University\\researches\\fazli\\code\\crypto_sentiment\\notebooks\\..\\scripts\\portfolio_manager.py:16: SettingWithCopyWarning: \n",
      "A value is trying to be set on a copy of a slice from a DataFrame.\n",
      "Try using .loc[row_indexer,col_indexer] = value instead\n",
      "\n",
      "See the caveats in the documentation: https://pandas.pydata.org/pandas-docs/stable/user_guide/indexing.html#returning-a-view-versus-a-copy\n",
      "  coin_data['Day'] = pd.to_datetime(coin_data['Day'])\n"
     ]
    },
    {
     "name": "stdout",
     "output_type": "stream",
     "text": [
      "{'XRP-USD': 52.31012114778345, 'BTC-USD': 47.68987885221655, 'ADA-USD': 0.0}\n",
      "1000\n",
      "{'ETH-USD': 34.46129583354203, 'XRP-USD': 33.78029613463514, 'DOGE-USD': 31.75840803182283}\n",
      "1010.0931329038327\n",
      "{'BTC-USD': 100.0, 'ADA-USD': 0.0, 'AVAX-USD': 0.0}\n",
      "1038.3330735362158\n",
      "{'ETH-USD': 34.33261277718767, 'XRP-USD': 33.729304599599544, 'DOGE-USD': 31.93808262321279}\n",
      "1139.4982833768586\n",
      "{'XRP-USD': 34.56370079779654, 'DOGE-USD': 32.93251070804757, 'BTC-USD': 32.50378849415589}\n",
      "1151.6870591498332\n",
      "{'DOGE-USD': 35.78123901161549, 'BTC-USD': 34.19425308354108, 'AVAX-USD': 30.024507904843446}\n",
      "1144.9516209636934\n",
      "{'DOGE-USD': 100.0, 'ADA-USD': 0.0, 'AVAX-USD': 0.0}\n",
      "1203.7031857183276\n",
      "{'DOGE-USD': 54.454490697390355, 'BTC-USD': 45.54550930260965, 'ADA-USD': 0.0}\n",
      "1136.879139295616\n",
      "{'XRP-USD': 54.0060634894232, 'BTC-USD': 45.9939365105768, 'ADA-USD': 0.0}\n",
      "1155.6367751182272\n",
      "{'DOGE-USD': 100.0, 'ADA-USD': 0.0, 'AVAX-USD': 0.0}\n",
      "1178.9837393349571\n",
      "{'XRP-USD': 53.53858065753221, 'BTC-USD': 46.4614193424678, 'ADA-USD': 0.0}\n",
      "1183.8962523196901\n",
      "{'XRP-USD': 34.640113091164, 'ETH-USD': 34.14274593136204, 'SOL-USD': 31.217140977473974}\n",
      "1227.591370579647\n",
      "{'BTC-USD': 33.62677757905118, 'XRP-USD': 33.55624500187177, 'DOGE-USD': 32.81697741907706}\n",
      "1246.5053345514111\n",
      "{'ETH-USD': 35.12722515055799, 'BTC-USD': 32.466438047470255, 'XRP-USD': 32.40633680197177}\n",
      "1228.951442704202\n",
      "{'ETH-USD': 38.11209690598642, 'SOL-USD': 34.403318677211175, 'DOGE-USD': 27.4845844168024}\n",
      "1251.097063887407\n",
      "{'XRP-USD': 50.292688640116744, 'SOL-USD': 49.70731135988326, 'ADA-USD': 0.0}\n",
      "1267.4929870795331\n",
      "{'DOGE-USD': 100.0, 'ADA-USD': 0.0, 'AVAX-USD': 0.0}\n",
      "1359.9496834764761\n",
      "{'XRP-USD': 35.45608682136222, 'BTC-USD': 34.96817425392375, 'DOGE-USD': 29.575738924714024}\n",
      "1458.570160546809\n",
      "{'DOT-USD': 52.893420090700516, 'XRP-USD': 47.106579909299484, 'ADA-USD': 0.0}\n",
      "1399.0760051665739\n",
      "{'XRP-USD': 100.0, 'ADA-USD': 0.0, 'AVAX-USD': 0.0}\n",
      "1433.4354462034182\n",
      "{'DOGE-USD': 51.63489203707405, 'XRP-USD': 48.365107962925954, 'ADA-USD': 0.0}\n",
      "1390.8759957802429\n",
      "{'SOL-USD': 51.18304553531884, 'MATIC-USD': 48.81695446468115, 'ADA-USD': 0.0}\n",
      "1428.3623297987745\n",
      "{'ETH-USD': 34.96251849768843, 'BTC-USD': 32.85165385535724, 'ADA-USD': 32.18582764695433}\n",
      "1415.527354463793\n",
      "{'DOGE-USD': 100.0, 'ADA-USD': 0.0, 'AVAX-USD': 0.0}\n",
      "1410.1743364718404\n",
      "{'ETH-USD': 56.01277690642256, 'XRP-USD': 43.987223093577434, 'ADA-USD': 0.0}\n",
      "1352.270044647376\n",
      "{'DOT-USD': 38.234853155761954, 'SOL-USD': 32.46887824736376, 'XRP-USD': 29.296268596874274}\n",
      "1302.718841859173\n",
      "{'ETH-USD': 35.06743671502286, 'BTC-USD': 32.97411034448779, 'SOL-USD': 31.958452940489362}\n",
      "1393.8609810326484\n",
      "{'BTC-USD': 35.86143647975384, 'DOGE-USD': 32.76580270232033, 'XRP-USD': 31.372760817925826}\n",
      "1327.4834980790167\n",
      "{'BTC-USD': 37.507399760013136, 'SOL-USD': 36.09051826577376, 'DOGE-USD': 26.402081974213097}\n",
      "1344.3885540238869\n",
      "{'SOL-USD': 100.0, 'ADA-USD': 0.0, 'AVAX-USD': 0.0}\n",
      "1342.9347765665073\n"
     ]
    }
   ],
   "source": [
    "for x in members:\n",
    "  price_data[x] = price_data[x]/(price_data[x].iloc[0])\n",
    "\n",
    "\n",
    "from scripts.portfolio import Portfolio\n",
    "\n",
    "portfolio_dynamic = Portfolio(coins_list,initial_balance=1000)\n",
    "portfolio_static = Portfolio(coins_list,initial_balance=1000)\n",
    "\n",
    "balance_list_dynamic = portfolio_manager.portfolio_dynamic_calculator(price_data, portfolio_dynamic)\n",
    "balance_list_static = portfolio_manager.portfolio_static_calculator(average_weights, price_data, portfolio_static)"
   ]
  },
  {
   "cell_type": "code",
   "execution_count": 15,
   "metadata": {},
   "outputs": [
    {
     "data": {
      "image/png": "[encoded data removed]",
      "text/plain": [
       "<Figure size 432x288 with 1 Axes>"
      ]
     },
     "metadata": {},
     "output_type": "display_data"
    }
   ],
   "source": [
    "plt.style.use(\"dark_background\")\n",
    "\n",
    "plt.plot(price_data[\"Date\"], balance_list_dynamic, label = \"my portfolio\")\n",
    "plt.plot(price_data[\"Date\"], balance_list_static, label = \"average index\")\n",
    "\n",
    "plt.legend(loc=\"upper left\")\n",
    "plt.show()"
   ]
  }
 ],
 "metadata": {
  "kernelspec": {
   "display_name": "Python 3",
   "language": "python",
   "name": "python3"
  },
  "language_info": {
   "codemirror_mode": {
    "name": "ipython",
    "version": 3
   },
   "file_extension": ".py",
   "mimetype": "text/x-python",
   "name": "python",
   "nbconvert_exporter": "python",
   "pygments_lexer": "ipython3",
   "version": "3.9.6"
  },
  "orig_nbformat": 4
 },
 "nbformat": 4,
 "nbformat_minor": 2
}
