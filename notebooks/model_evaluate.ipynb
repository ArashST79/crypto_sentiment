{
 "cells": [
  {
   "cell_type": "code",
   "execution_count": 1,
   "metadata": {},
   "outputs": [
    {
     "name": "stderr",
     "output_type": "stream",
     "text": [
      "c:\\Users\\Asus\\AppData\\Local\\Programs\\Python\\Python39\\lib\\site-packages\\requests\\__init__.py:102: RequestsDependencyWarning: urllib3 (1.26.18) or chardet (5.2.0)/charset_normalizer (2.0.12) doesn't match a supported version!\n",
      "  warnings.warn(\"urllib3 ({}) or chardet ({})/charset_normalizer ({}) doesn't match a supported \"\n"
     ]
    },
    {
     "name": "stdout",
     "output_type": "stream",
     "text": [
      "WARNING:tensorflow:From c:\\Users\\Asus\\AppData\\Local\\Programs\\Python\\Python39\\lib\\site-packages\\keras\\src\\losses.py:2976: The name tf.losses.sparse_softmax_cross_entropy is deprecated. Please use tf.compat.v1.losses.sparse_softmax_cross_entropy instead.\n",
      "\n"
     ]
    }
   ],
   "source": [
    "import matplotlib.pyplot as plt\n",
    "import pandas as pd\n",
    "import sys\n",
    "sys.path.append('../')\n",
    "sys.path.append('../scripts')\n",
    "from scripts.data_handler import DataOrganize, DataModes"
   ]
  },
  {
   "cell_type": "code",
   "execution_count": 2,
   "metadata": {},
   "outputs": [
    {
     "name": "stderr",
     "output_type": "stream",
     "text": [
      "100%|██████████| 1000/1000 [00:37<00:00, 26.65it/s]\n"
     ]
    },
    {
     "name": "stdout",
     "output_type": "stream",
     "text": [
      "<class 'str'>\n"
     ]
    },
    {
     "name": "stderr",
     "output_type": "stream",
     "text": [
      "100%|██████████| 726/726 [00:00<00:00, 19087.25it/s]"
     ]
    },
    {
     "name": "stdout",
     "output_type": "stream",
     "text": [
      "726\n"
     ]
    },
    {
     "name": "stderr",
     "output_type": "stream",
     "text": [
      "\n"
     ]
    }
   ],
   "source": [
    "data_organize = DataOrganize()\n",
    "data_organize.create_clean_data(mode=DataModes.RANDOM_1000)\n",
    "print(len(data_organize.data))"
   ]
  },
  {
   "cell_type": "code",
   "execution_count": 3,
   "metadata": {},
   "outputs": [
    {
     "name": "stderr",
     "output_type": "stream",
     "text": [
      "Vader Sentiment Analysis: 100%|██████████| 378/378 [00:13<00:00, 27.37it/s]"
     ]
    },
    {
     "name": "stdout",
     "output_type": "stream",
     "text": [
      "Accuracy of Vader sentiment analysis on rows with non-NaN entities.sentiment.basic: 0.71\n"
     ]
    },
    {
     "name": "stderr",
     "output_type": "stream",
     "text": [
      "\n"
     ]
    }
   ],
   "source": [
    "from tqdm import tqdm\n",
    "from sklearn.metrics import accuracy_score,confusion_matrix\n",
    "from scripts.sentiment_analysis_evaluator import Evaluator\n",
    "\n",
    "filtered_data = data_organize.data[data_organize.data['entities.sentiment.basic'].notna()]\n",
    "\n",
    "evaluator_vader = Evaluator(model = None,tokenizer = None,data=filtered_data)\n",
    "accuracy = evaluator_vader.evaluate_vader()\n",
    "print(f\"Accuracy of Vader sentiment analysis on rows with non-NaN entities.sentiment.basic: {accuracy:.2f}\")"
   ]
  },
  {
   "cell_type": "code",
   "execution_count": null,
   "metadata": {},
   "outputs": [],
   "source": [
    "evaluator_vader.show_confusion_matrix()"
   ]
  },
  {
   "cell_type": "code",
   "execution_count": null,
   "metadata": {},
   "outputs": [],
   "source": [
    "evaluator_vader.show_bad_samples(num = 10)\n"
   ]
  },
  {
   "cell_type": "code",
   "execution_count": null,
   "metadata": {},
   "outputs": [],
   "source": [
    "import pandas as pd\n",
    "import numpy as np\n",
    "import torch\n",
    "from tqdm import tqdm\n",
    "from sklearn.metrics import accuracy_score\n",
    "from transformers import AutoTokenizer, AutoModelForSequenceClassification\n",
    "from scripts.sentiment_analysis_evaluator import Evaluator\n",
    "\n",
    "from tqdm import tqdm\n",
    "from sklearn.metrics import accuracy_score,confusion_matrix\n",
    "\n",
    "model_name = \"ProsusAI/finbert\"\n",
    "tokenizer = AutoTokenizer.from_pretrained(model_name)\n",
    "model = AutoModelForSequenceClassification.from_pretrained(model_name)\n",
    "\n",
    "filtered_data = data_organize.data[data_organize.data['entities.sentiment.basic'].notna()]\n",
    "\n",
    "evaluator_finbert = Evaluator(model,tokenizer,data=filtered_data)\n",
    "accuracy = evaluator_finbert.evaluate_model_fin_bert()\n",
    "print(f\"Accuracy of finbert sentiment analysis on rows with non-NaN entities.sentiment.basic: {accuracy:.2f}\")"
   ]
  },
  {
   "cell_type": "code",
   "execution_count": null,
   "metadata": {},
   "outputs": [],
   "source": [
    "evaluator_finbert.show_confusion_matrix()"
   ]
  },
  {
   "cell_type": "code",
   "execution_count": null,
   "metadata": {},
   "outputs": [],
   "source": [
    "evaluator_finbert.show_bad_samples(num=10)"
   ]
  },
  {
   "cell_type": "code",
   "execution_count": 4,
   "metadata": {},
   "outputs": [
    {
     "name": "stderr",
     "output_type": "stream",
     "text": [
      "CryptoBERT Sentiment Analysis: 100%|██████████| 378/378 [00:50<00:00,  7.53it/s]"
     ]
    },
    {
     "name": "stdout",
     "output_type": "stream",
     "text": [
      "Accuracy of cryptobert sentiment analysis on rows with non-NaN entities.sentiment.basic: 0.85\n"
     ]
    },
    {
     "name": "stderr",
     "output_type": "stream",
     "text": [
      "\n"
     ]
    }
   ],
   "source": [
    "from transformers import TextClassificationPipeline, AutoModelForSequenceClassification, AutoTokenizer\n",
    "import importlib\n",
    "class_name = importlib.import_module(\"sentiment_analysis_evaluator\")\n",
    "importlib.reload(class_name)\n",
    "from scripts.sentiment_analysis_evaluator import Evaluator\n",
    "model_name = \"ElKulako/cryptobert\"\n",
    "tokenizer = AutoTokenizer.from_pretrained(model_name, use_fast=True)\n",
    "model = AutoModelForSequenceClassification.from_pretrained(model_name, num_labels = 3)\n",
    "filtered_data = data_organize.data[data_organize.data['entities.sentiment.basic'].notna()]\n",
    "\n",
    "evaluator_cryptobert = Evaluator(model,tokenizer,data=filtered_data)\n",
    "accuracy = evaluator_cryptobert.evaluate_model_crypto_bert()\n",
    "print(f\"Accuracy of cryptobert sentiment analysis on rows with non-NaN entities.sentiment.basic: {accuracy:.2f}\")"
   ]
  },
  {
   "cell_type": "code",
   "execution_count": 5,
   "metadata": {},
   "outputs": [
    {
     "data": {
      "image/png": "[encoded data removed]",
      "text/plain": [
       "<Figure size 432x288 with 2 Axes>"
      ]
     },
     "metadata": {
      "needs_background": "light"
     },
     "output_type": "display_data"
    }
   ],
   "source": [
    "evaluator_cryptobert.show_confusion_matrix()"
   ]
  },
  {
   "cell_type": "code",
   "execution_count": 7,
   "metadata": {},
   "outputs": [
    {
     "name": "stdout",
     "output_type": "stream",
     "text": [
      "Actual Label: Bearish\n",
      "Predicted Label: Bullish\n",
      "Text: $AVAX.X $VRA.X $XRP.X Covered Long- now Shorting $ETH.X HARD\n",
      "Prediction Confidency \n",
      "tensor([[1.2126e-04, 7.7245e-01, 2.2743e-01]], grad_fn=<SoftmaxBackward0>)\n",
      "\n",
      "---------------------\n",
      "\n",
      "Actual Label: Bearish\n",
      "Predicted Label: Bullish\n",
      "Text: $XRP.X Reasons why we see 0.50s EOW:\\nBTC rejected AGAIN at 36k. \\nRipple Swell UNEVENTFUL\\nSettlement chances &lt;1% (window closes tomorrow)\n",
      "Prediction Confidency \n",
      "tensor([[0.0556, 0.7488, 0.1957]], grad_fn=<SoftmaxBackward0>)\n",
      "\n",
      "---------------------\n",
      "\n",
      "Actual Label: Bearish\n",
      "Predicted Label: Bullish\n",
      "Text: $BNB.X Binance will soon death spiral after SBF spills his guts on all the illegal shit CZ is up to. The Biden regime will take CZ down. 🤗🚀🚀🚀🚀\n",
      "Prediction Confidency \n",
      "tensor([[1.1144e-04, 6.1214e-01, 3.8775e-01]], grad_fn=<SoftmaxBackward0>)\n",
      "\n",
      "---------------------\n",
      "\n",
      "Actual Label: Bearish\n",
      "Predicted Label: Bullish\n",
      "Text: $MATIC.X send it to 0.69 already so we can all ape in\n",
      "Prediction Confidency \n",
      "tensor([[0.0278, 0.4771, 0.4951]], grad_fn=<SoftmaxBackward0>)\n",
      "\n",
      "---------------------\n",
      "\n",
      "Actual Label: Bearish\n",
      "Predicted Label: Bullish\n",
      "Text: $MATIC.X who’s the asswhole now I’ll buy all your coins for .25 a piece see you there fucking suckers permabulls get squished\n",
      "Prediction Confidency \n",
      "tensor([[0.1171, 0.7248, 0.1580]], grad_fn=<SoftmaxBackward0>)\n",
      "\n",
      "---------------------\n",
      "\n",
      "Actual Label: Bearish\n",
      "Predicted Label: Bullish\n",
      "Text: $AVAX.X what’s the matter? over-extended much?\n",
      "Prediction Confidency \n",
      "tensor([[1.3254e-04, 5.9331e-01, 4.0655e-01]], grad_fn=<SoftmaxBackward0>)\n",
      "\n",
      "---------------------\n",
      "\n",
      "Actual Label: Bearish\n",
      "Predicted Label: Bullish\n",
      "Text: @100xAlgo Scalped $TRX.X Short 80x Leverage for 80% ROE \\n \\nEntry Price: $0.065688572, Exited: $0.06503168628 Leverage Used: 80x , Net Profit: 0.1153 BTC , Trade Length:  944 minutes\n",
      "Prediction Confidency \n",
      "tensor([[3.3023e-04, 7.2628e-01, 2.7339e-01]], grad_fn=<SoftmaxBackward0>)\n",
      "\n",
      "---------------------\n",
      "\n",
      "Actual Label: Bearish\n",
      "Predicted Label: Bullish\n",
      "Text: $XRP.X Don’t miss the next short on Ripple into the 0.50s\\n$BTC.X $ETH.X $SOL.X $DOGE.X\n",
      "Prediction Confidency \n",
      "tensor([[0.0602, 0.5353, 0.4045]], grad_fn=<SoftmaxBackward0>)\n",
      "\n",
      "---------------------\n",
      "\n",
      "Actual Label: Bearish\n",
      "Predicted Label: Bullish\n",
      "Text: $BTC.X $ETH.X $LTC.X $DOGE.X $BNB.X A wealth extraction mechanism for the few. You are not the few. 🚩🚩🚩☠️\n",
      "Prediction Confidency \n",
      "tensor([[0.0015, 0.8316, 0.1669]], grad_fn=<SoftmaxBackward0>)\n",
      "\n",
      "---------------------\n",
      "\n",
      "Actual Label: Bearish\n",
      "Predicted Label: Bullish\n",
      "Text: $BNB.X shiba will be higher than Bitcoin and this one day. IMHO\n",
      "Prediction Confidency \n",
      "tensor([[0.0047, 0.3900, 0.6053]], grad_fn=<SoftmaxBackward0>)\n",
      "\n",
      "---------------------\n",
      "\n",
      "Actual Label: Bearish\n",
      "Predicted Label: Bullish\n",
      "Text: $DOGE.X Homer picks up 1 dogecoin (soon)\n",
      "Prediction Confidency \n",
      "tensor([[6.9600e-04, 2.0598e-01, 7.9333e-01]], grad_fn=<SoftmaxBackward0>)\n",
      "\n",
      "---------------------\n",
      "\n",
      "Actual Label: Bearish\n",
      "Predicted Label: Bullish\n",
      "Text: $XRP.X devs selling as we speak for liquidity.  Go watch the massive orders for selling,  in the billions\n",
      "Prediction Confidency \n",
      "tensor([[0.0277, 0.4697, 0.5025]], grad_fn=<SoftmaxBackward0>)\n",
      "\n",
      "---------------------\n",
      "\n",
      "Actual Label: Bearish\n",
      "Predicted Label: Bullish\n",
      "Text: $BNB.X craziness to invest. Remember greed kills.\n",
      "Prediction Confidency \n",
      "tensor([[0.0234, 0.6412, 0.3354]], grad_fn=<SoftmaxBackward0>)\n",
      "\n",
      "---------------------\n",
      "\n",
      "Actual Label: Bearish\n",
      "Predicted Label: Bullish\n",
      "Text: $XRP.X H&amp;S on 5 min chart\n",
      "Prediction Confidency \n",
      "tensor([[0.1534, 0.2962, 0.5504]], grad_fn=<SoftmaxBackward0>)\n",
      "\n",
      "---------------------\n",
      "\n",
      "Actual Label: Bearish\n",
      "Predicted Label: Bullish\n",
      "Text: $ADA.X $SOL.X Folks. I’ve reviewed the solano and cardanzo. Just look around. Fraudsters and hucksters running amuck. Invest in the US dollar folks, going up big time. My man Gary will pull this malarkey off the interwebs\n",
      "Prediction Confidency \n",
      "tensor([[0.0026, 0.7549, 0.2425]], grad_fn=<SoftmaxBackward0>)\n",
      "\n",
      "---------------------\n",
      "\n",
      "Actual Label: Bearish\n",
      "Predicted Label: Bullish\n",
      "Text: $BNB.X $ETH.X $BTC.X BINANCE is the next to fall, just wait for what’s about to be released if u haven’t done the research\n",
      "Prediction Confidency \n",
      "tensor([[0.0006, 0.6091, 0.3903]], grad_fn=<SoftmaxBackward0>)\n",
      "\n",
      "---------------------\n",
      "\n",
      "Actual Label: Bearish\n",
      "Predicted Label: Bullish\n",
      "Text: $BTC.X $BNB.X probably wise to get money off the binance exchange. the charges the Fed&#39;s used on Bitzlato could equally be applied to Binance. just a question of time\n",
      "Prediction Confidency \n",
      "tensor([[0.0184, 0.7408, 0.2408]], grad_fn=<SoftmaxBackward0>)\n",
      "\n",
      "---------------------\n",
      "\n",
      "Actual Label: Bearish\n",
      "Predicted Label: Bullish\n",
      "Text: $BNB.X bigger they are the harder they will fall. Short to oblivion. Fuck Binance.\n",
      "Prediction Confidency \n",
      "tensor([[0.0063, 0.7061, 0.2876]], grad_fn=<SoftmaxBackward0>)\n",
      "\n",
      "---------------------\n",
      "\n",
      "Actual Label: Bearish\n",
      "Predicted Label: Bullish\n",
      "Text: $BTC.X Bulls never expect a 70% drop from here 😂😂😂🔪🥂🐻🍾\n",
      "Prediction Confidency \n",
      "tensor([[0.0697, 0.3468, 0.5834]], grad_fn=<SoftmaxBackward0>)\n",
      "\n",
      "---------------------\n",
      "\n",
      "Actual Label: Bearish\n",
      "Predicted Label: Bullish\n",
      "Text: $AVAX.X Pattern learn it. Learning the patterns will go a long way. Keep hodling\n",
      "Prediction Confidency \n",
      "tensor([[0.0065, 0.5302, 0.4632]], grad_fn=<SoftmaxBackward0>)\n",
      "\n",
      "---------------------\n",
      "\n"
     ]
    }
   ],
   "source": [
    "evaluator_cryptobert.show_bad_samples(num=20)"
   ]
  },
  {
   "cell_type": "code",
   "execution_count": 4,
   "metadata": {},
   "outputs": [
    {
     "name": "stderr",
     "output_type": "stream",
     "text": [
      "CryptoBERT 2 Sentiment Analysis: 100%|██████████| 382/382 [00:32<00:00, 11.80it/s]\n"
     ]
    }
   ],
   "source": [
    "from transformers import BertTokenizer, BertForSequenceClassification\n",
    "from transformers import pipeline\n",
    "\n",
    "\n",
    "\n",
    "from transformers import TextClassificationPipeline, AutoModelForSequenceClassification, AutoTokenizer\n",
    "import importlib\n",
    "class_name = importlib.import_module(\"sentiment_analysis_evaluator\")\n",
    "importlib.reload(class_name)\n",
    "from scripts.sentiment_analysis_evaluator import Evaluator\n",
    "model_name = \"kk08/CryptoBERT\"\n",
    "tokenizer = BertTokenizer.from_pretrained(model_name, use_fast=True)\n",
    "model = BertForSequenceClassification.from_pretrained(model_name, num_labels = 2)\n",
    "filtered_data = data_organize.data[data_organize.data['entities.sentiment.basic'].notna()]\n",
    "\n",
    "evaluator_cryptobert2 = Evaluator(model,tokenizer,data=filtered_data)\n",
    "accuracy = evaluator_cryptobert2.evaluate_model_crypto_bert2()\n"
   ]
  },
  {
   "cell_type": "code",
   "execution_count": 5,
   "metadata": {},
   "outputs": [
    {
     "name": "stdout",
     "output_type": "stream",
     "text": [
      "Accuracy of cryptobert version 2 sentiment analysis on rows with non-NaN entities.sentiment.basic: 0.75\n"
     ]
    },
    {
     "data": {
      "image/png": "[encoded data removed]",
      "text/plain": [
       "<Figure size 432x288 with 2 Axes>"
      ]
     },
     "metadata": {
      "needs_background": "light"
     },
     "output_type": "display_data"
    }
   ],
   "source": [
    "print(f\"Accuracy of cryptobert version 2 sentiment analysis on rows with non-NaN entities.sentiment.basic: {accuracy:.2f}\")\n",
    "evaluator_cryptobert2.show_confusion_matrix()"
   ]
  },
  {
   "cell_type": "code",
   "execution_count": 6,
   "metadata": {},
   "outputs": [
    {
     "name": "stdout",
     "output_type": "stream",
     "text": [
      "Actual Label: Bearish\n",
      "Predicted Label: Bullish\n",
      "Text: $AVAX.X the dilution is real here\n",
      "Prediction Confidency \n",
      "tensor([[0.0444, 0.9556]], grad_fn=<SoftmaxBackward0>)\n",
      "\n",
      "---------------------\n",
      "\n",
      "Actual Label: Bearish\n",
      "Predicted Label: Bullish\n",
      "Text: $DOGE.X dreaming of a life where I bought Solana instead of Doge\n",
      "Prediction Confidency \n",
      "tensor([[0.0907, 0.9093]], grad_fn=<SoftmaxBackward0>)\n",
      "\n",
      "---------------------\n",
      "\n",
      "Actual Label: Bearish\n",
      "Predicted Label: Bullish\n",
      "Text: $ADA.X  at the neckline. Target is 30 cents... I doubt that, but anything possible. Head and shoulders pattern?  My opinion.\n",
      "Prediction Confidency \n",
      "tensor([[0.0989, 0.9011]], grad_fn=<SoftmaxBackward0>)\n",
      "\n",
      "---------------------\n",
      "\n",
      "Actual Label: Bearish\n",
      "Predicted Label: Bullish\n",
      "Text: $MATIC.X lol told you retards only the beginning\n",
      "Prediction Confidency \n",
      "tensor([[0.1693, 0.8307]], grad_fn=<SoftmaxBackward0>)\n",
      "\n",
      "---------------------\n",
      "\n",
      "Actual Label: Bearish\n",
      "Predicted Label: Bullish\n",
      "Text: $DOGE.X This is probably gonna sell off after Elons latest statements and the backlash\n",
      "Prediction Confidency \n",
      "tensor([[0.0441, 0.9559]], grad_fn=<SoftmaxBackward0>)\n",
      "\n",
      "---------------------\n",
      "\n",
      "Actual Label: Bearish\n",
      "Predicted Label: Bullish\n",
      "Text: $BNB.X 😂 52 week low coming hard and fast 😂 can&#39;t wait.\n",
      "Prediction Confidency \n",
      "tensor([[0.0946, 0.9054]], grad_fn=<SoftmaxBackward0>)\n",
      "\n",
      "---------------------\n",
      "\n",
      "Actual Label: Bearish\n",
      "Predicted Label: Bullish\n",
      "Text: $AVAX.X  This is still a good bargain. Hodl Hodl Hodl\n",
      "Prediction Confidency \n",
      "tensor([[0.0311, 0.9689]], grad_fn=<SoftmaxBackward0>)\n",
      "\n",
      "---------------------\n",
      "\n",
      "Actual Label: Bearish\n",
      "Predicted Label: Bullish\n",
      "Text: $VGX.X Steve tried to sell voyager to $FTT.X then SBF went under. Now he’s trying to sell to CZ and then $BNB.X will go under. The point is…SHORT BNB TO GET YOUR $$$$ BACK!🚀🚀🚀🚀\n",
      "Prediction Confidency \n",
      "tensor([[0.1073, 0.8927]], grad_fn=<SoftmaxBackward0>)\n",
      "\n",
      "---------------------\n",
      "\n",
      "Actual Label: Bearish\n",
      "Predicted Label: Bullish\n",
      "Text: $DOGE.X I thought we were going to make it for a moment today\n",
      "Prediction Confidency \n",
      "tensor([[0.0423, 0.9577]], grad_fn=<SoftmaxBackward0>)\n",
      "\n",
      "---------------------\n",
      "\n",
      "Actual Label: Bearish\n",
      "Predicted Label: Bullish\n",
      "Text: $XRP.X  back to 37 cents\n",
      "Prediction Confidency \n",
      "tensor([[0.0901, 0.9099]], grad_fn=<SoftmaxBackward0>)\n",
      "\n",
      "---------------------\n",
      "\n"
     ]
    }
   ],
   "source": [
    "evaluator_cryptobert2.show_bad_samples(10)"
   ]
  }
 ],
 "metadata": {
  "kernelspec": {
   "display_name": "Python 3",
   "language": "python",
   "name": "python3"
  },
  "language_info": {
   "codemirror_mode": {
    "name": "ipython",
    "version": 3
   },
   "file_extension": ".py",
   "mimetype": "text/x-python",
   "name": "python",
   "nbconvert_exporter": "python",
   "pygments_lexer": "ipython3",
   "version": "3.9.6"
  },
  "orig_nbformat": 4
 },
 "nbformat": 4,
 "nbformat_minor": 2
}
