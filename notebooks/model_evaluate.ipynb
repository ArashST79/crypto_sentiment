{
 "cells": [
  {
   "cell_type": "code",
   "execution_count": 5,
   "metadata": {},
   "outputs": [],
   "source": [
    "import matplotlib.pyplot as plt\n",
    "import pandas as pd\n",
    "import sys\n",
    "sys.path.append('../')\n",
    "sys.path.append('../scripts')\n",
    "from scripts.data_analysis import DataOrganize"
   ]
  },
  {
   "cell_type": "code",
   "execution_count": 6,
   "metadata": {},
   "outputs": [],
   "source": [
    "import glob\n",
    "\n",
    "files = glob.glob('../data/StockTwits.*_messages.csv')\n",
    "\n",
    "dfs = []\n",
    "\n",
    "for file in files:\n",
    "    df = pd.read_csv(file, nrows=100)\n",
    "    dfs.append(df)\n",
    "\n",
    "data = pd.concat(dfs, ignore_index=True)"
   ]
  },
  {
   "cell_type": "code",
   "execution_count": 7,
   "metadata": {},
   "outputs": [
    {
     "name": "stderr",
     "output_type": "stream",
     "text": [
      "100%|██████████| 1000/1000 [00:17<00:00, 56.78it/s]\n",
      "d:\\University\\researches\\fazli\\code\\crypto_sentiment\\Notebooks\\..\\scripts\\data_analysis.py:59: PerformanceWarning: DataFrame is highly fragmented.  This is usually the result of calling `frame.insert` many times, which has poor performance.  Consider joining all columns at once using pd.concat(axis=1) instead.  To get a de-fragmented frame, use `newframe = frame.copy()`\n",
      "  raw_data['language'], raw_data['entities'] = zip(*[extract_features(str(x)) for x in tqdm(raw_data['body'])])\n"
     ]
    },
    {
     "name": "stdout",
     "output_type": "stream",
     "text": [
      "<class 'str'>\n"
     ]
    },
    {
     "name": "stderr",
     "output_type": "stream",
     "text": [
      "100%|██████████| 659/659 [00:00<00:00, 47881.34it/s]\n"
     ]
    }
   ],
   "source": [
    "data_organize = DataOrganize(data)\n",
    "data_organize.clean_data()"
   ]
  },
  {
   "cell_type": "code",
   "execution_count": 4,
   "metadata": {},
   "outputs": [
    {
     "name": "stderr",
     "output_type": "stream",
     "text": [
      "Vader Sentiment Analysis: 100%|██████████| 391/391 [00:04<00:00, 79.30it/s]"
     ]
    },
    {
     "name": "stdout",
     "output_type": "stream",
     "text": [
      "Accuracy of Vader sentiment analysis on rows with non-NaN entities.sentiment.basic: 0.77\n"
     ]
    },
    {
     "name": "stderr",
     "output_type": "stream",
     "text": [
      "\n"
     ]
    }
   ],
   "source": [
    "from tqdm import tqdm\n",
    "from sklearn.metrics import accuracy_score,confusion_matrix\n",
    "from scripts.sentiment_analysis_evaluator import Evaluator\n",
    "\n",
    "filtered_data = data_organize.data[data_organize.data['entities.sentiment.basic'].notna()]\n",
    "\n",
    "evaluator_vader = Evaluator(model = None,tokenizer = None,data=filtered_data)\n",
    "accuracy = evaluator_vader.evaluate_vader()\n",
    "print(f\"Accuracy of Vader sentiment analysis on rows with non-NaN entities.sentiment.basic: {accuracy:.2f}\")"
   ]
  },
  {
   "cell_type": "code",
   "execution_count": 8,
   "metadata": {},
   "outputs": [
    {
     "data": {
      "image/png": "[encoded data removed]",
      "text/plain": [
       "<Figure size 432x288 with 2 Axes>"
      ]
     },
     "metadata": {
      "needs_background": "light"
     },
     "output_type": "display_data"
    }
   ],
   "source": [
    "evaluator_vader.show_confusion_matrix()"
   ]
  },
  {
   "cell_type": "code",
   "execution_count": 9,
   "metadata": {},
   "outputs": [
    {
     "name": "stdout",
     "output_type": "stream",
     "text": [
      "Actual Label: Bearish\n",
      "Predicted Label: Bullish\n",
      "Text: $XRP.X I’m expecting most alts to run another 2-300% while XRP maintains its price under $1. Tons of other options on the market, but cults will be cults. \\n$ETH.X $DOGE.X $SOL.X $TARA.X\n",
      "\n",
      "---------------------\n",
      "\n",
      "Actual Label: Bearish\n",
      "Predicted Label: Bullish\n",
      "Text: $AVAX.X very strong dump incoming next few days. I smell it!\n",
      "\n",
      "---------------------\n",
      "\n",
      "Actual Label: Bearish\n",
      "Predicted Label: Bullish\n",
      "Text: $ADA.X Ada is -48.53% against Bitcoin this year girls. Bitcoin boring boomer coin? 🤣\n",
      "\n",
      "---------------------\n",
      "\n",
      "Actual Label: Bearish\n",
      "Predicted Label: Bullish\n",
      "Text: $BTC.X  \\n \\nOk now you place the same 35 grand into a 20 cent stock or crypto and sell at $11 how much is that? \\n \\n$1,925,000\n",
      "\n",
      "---------------------\n",
      "\n",
      "Actual Label: Bearish\n",
      "Predicted Label: Bullish\n",
      "Text: $BTC.X  \\n \\nHere, better example? \\n \\nDogecoin made 227X \\n \\nUnder 100B market cap. Over a few weeks. \\n \\nWhat would Btc need to do. \\n \\n132,795,000,000,000 (6.8T) \\n \\nSCAM!\n",
      "\n",
      "---------------------\n",
      "\n",
      "Actual Label: Bearish\n",
      "Predicted Label: Bullish\n",
      "Text: $XRP.X  \\n \\nBack to mid 50s 🤢\n",
      "\n",
      "---------------------\n",
      "\n",
      "Actual Label: Bearish\n",
      "Predicted Label: Bullish\n",
      "Text: Do you agree with the A.I. prediction? $AVAX.X RSI Indicator left the overbought zone. View odds of downtrend. https://srnk.us/go/4920561\n",
      "\n",
      "---------------------\n",
      "\n",
      "Actual Label: Bearish\n",
      "Predicted Label: Bullish\n",
      "Text: $XRP.X \\n\\n“The middle class trying to gain generational wealth”\\n\\nAwe how cute…..  \\n\\nWon’t happen\n",
      "\n",
      "---------------------\n",
      "\n",
      "Actual Label: Bearish\n",
      "Predicted Label: Bullish\n",
      "Text: @rareri @mandawg6 @Stock_R @KROSSF1R3 @LaminarFlow @Adeas1965 @Cotal_Tunt @Bull_21 @ninetwo @GenRunner  \\nUpdate: Covered my short on $MATIC.X for +13.2% \\nStill open on $ETH.X $LINK.X $SOL.X... in the money on all but $AVAX.X. How are you guys holding up?\n",
      "\n",
      "---------------------\n",
      "\n",
      "Actual Label: Bearish\n",
      "Predicted Label: Bullish\n",
      "Text: $BTC.X  \\n \\nExample: \\n \\nI put, $1,000 into a 20 cent crypto. It goes to $ 11. It went from 5 million to 250 million cap. \\n \\nI now have, $55,000. \\n \\nI place the same $1,000 on Btc at 30k, at 35k I only have... \\n \\n$1,166.66. \\n \\nOh no ok ok. $1,000 into $15,500 Btc. 35k: $2,258. \\n \\nOk ok, no. $7k Btc to 35k: \\n \\n$5,000. Wow. So much gain. \\n \\nHow are you bullish again?\n",
      "\n",
      "---------------------\n",
      "\n"
     ]
    }
   ],
   "source": [
    "evaluator_vader.show_bad_samples(num = 10)\n"
   ]
  },
  {
   "cell_type": "code",
   "execution_count": 10,
   "metadata": {},
   "outputs": [
    {
     "name": "stderr",
     "output_type": "stream",
     "text": [
      "FinBERT Sentiment Analysis: 100%|██████████| 388/388 [00:44<00:00,  8.70it/s]"
     ]
    },
    {
     "name": "stdout",
     "output_type": "stream",
     "text": [
      "Accuracy of finbert sentiment analysis on rows with non-NaN entities.sentiment.basic: 0.73\n"
     ]
    },
    {
     "name": "stderr",
     "output_type": "stream",
     "text": [
      "\n"
     ]
    }
   ],
   "source": [
    "import pandas as pd\n",
    "import numpy as np\n",
    "import torch\n",
    "from tqdm import tqdm\n",
    "from sklearn.metrics import accuracy_score\n",
    "from transformers import AutoTokenizer, AutoModelForSequenceClassification\n",
    "from scripts.sentiment_analysis_evaluator import Evaluator\n",
    "\n",
    "from tqdm import tqdm\n",
    "from sklearn.metrics import accuracy_score,confusion_matrix\n",
    "\n",
    "model_name = \"ProsusAI/finbert\"\n",
    "tokenizer = AutoTokenizer.from_pretrained(model_name)\n",
    "model = AutoModelForSequenceClassification.from_pretrained(model_name)\n",
    "\n",
    "filtered_data = data_organize.data[data_organize.data['entities.sentiment.basic'].notna()]\n",
    "\n",
    "evaluator_finbert = Evaluator(model,tokenizer,data=filtered_data)\n",
    "accuracy = evaluator_finbert.evaluate_model_fin_bert()\n",
    "print(f\"Accuracy of finbert sentiment analysis on rows with non-NaN entities.sentiment.basic: {accuracy:.2f}\")"
   ]
  },
  {
   "cell_type": "code",
   "execution_count": 11,
   "metadata": {},
   "outputs": [
    {
     "data": {
      "image/png": "[encoded data removed]",
      "text/plain": [
       "<Figure size 432x288 with 2 Axes>"
      ]
     },
     "metadata": {
      "needs_background": "light"
     },
     "output_type": "display_data"
    }
   ],
   "source": [
    "evaluator_finbert.show_confusion_matrix()"
   ]
  },
  {
   "cell_type": "code",
   "execution_count": 12,
   "metadata": {},
   "outputs": [
    {
     "name": "stdout",
     "output_type": "stream",
     "text": [
      "Actual Label: Bearish\n",
      "Predicted Label: Bullish\n",
      "Text: $XRP.X I just absolutely LOVE seeing the alt market have a bull run without you. This will be the case for a very, very long time.\n",
      "\n",
      "---------------------\n",
      "\n",
      "Actual Label: Bearish\n",
      "Predicted Label: Bullish\n",
      "Text: $AVAX.X $13 NexT stop\n",
      "\n",
      "---------------------\n",
      "\n",
      "Actual Label: Bearish\n",
      "Predicted Label: Bullish\n",
      "Text: $ADA.X - Cardano simply can&#39;t match the engineering team behind Solana. \\n \\nSolana hired all those Qualcomm engineers, the best ones in the world.  Sorry, but Cardano is the wrong blockchain to invest in.\n",
      "\n",
      "---------------------\n",
      "\n",
      "Actual Label: Bearish\n",
      "Predicted Label: Bullish\n",
      "Text: $BNB.X garbage right down there with cardano\n",
      "\n",
      "---------------------\n",
      "\n",
      "Actual Label: Bearish\n",
      "Predicted Label: Bullish\n",
      "Text: $AVAX.X it&#39;s sad to see so many people marry this coin. Never marry an investment. Make good investment and trading decisions.\n",
      "\n",
      "---------------------\n",
      "\n",
      "Actual Label: Bearish\n",
      "Predicted Label: Bullish\n",
      "Text: $XRP.X  \\n \\nBack to mid 50s 🤢\n",
      "\n",
      "---------------------\n",
      "\n",
      "Actual Label: Bearish\n",
      "Predicted Label: Bullish\n",
      "Text: @rareri @mandawg6 @Stock_R @KROSSF1R3 @LaminarFlow @Adeas1965 @Cotal_Tunt @Bull_21 @ninetwo @GenRunner  \\nUpdate: Covered my short on $MATIC.X for +13.2% \\nStill open on $ETH.X $LINK.X $SOL.X... in the money on all but $AVAX.X. How are you guys holding up?\n",
      "\n",
      "---------------------\n",
      "\n",
      "Actual Label: Bearish\n",
      "Predicted Label: Bullish\n",
      "Text: $XRP.X \\n\\n“The middle class trying to gain generational wealth”\\n\\nAwe how cute…..  \\n\\nWon’t happen\n",
      "\n",
      "---------------------\n",
      "\n",
      "Actual Label: Bearish\n",
      "Predicted Label: Bullish\n",
      "Text: $BTC.X  \\n \\nOk children. \\n \\nWhat is 100 divided by .30 \\n \\nTimes .35 \\n \\nNow what is 100 divided by 30,000 \\n \\nTimes 35,000. \\n \\nThe difference is, about 1400 times more money needed to do the same thing that a $500,000,000 penny stock or crypto can do, and they do it 50-100 times higher than that on any given random boring day!  \\n \\nNO CONCEPT OF MATH AT ALL IN HERE!\n",
      "\n",
      "---------------------\n",
      "\n",
      "Actual Label: Bearish\n",
      "Predicted Label: Bullish\n",
      "Text: $BTC.X 14.352K....are we there yet?\n",
      "\n",
      "---------------------\n",
      "\n"
     ]
    }
   ],
   "source": [
    "evaluator_finbert.show_bad_samples(num=10)"
   ]
  },
  {
   "cell_type": "code",
   "execution_count": 13,
   "metadata": {},
   "outputs": [
    {
     "name": "stderr",
     "output_type": "stream",
     "text": [
      "FinBERT Sentiment Analysis: 100%|██████████| 388/388 [00:41<00:00,  9.38it/s]"
     ]
    },
    {
     "name": "stdout",
     "output_type": "stream",
     "text": [
      "Accuracy of cryptobert sentiment analysis on rows with non-NaN entities.sentiment.basic: 0.89\n"
     ]
    },
    {
     "name": "stderr",
     "output_type": "stream",
     "text": [
      "\n"
     ]
    }
   ],
   "source": [
    "from transformers import TextClassificationPipeline, AutoModelForSequenceClassification, AutoTokenizer\n",
    "import importlib\n",
    "class_name = importlib.import_module(\"sentiment_analysis_evaluator\")\n",
    "importlib.reload(class_name)\n",
    "from scripts.sentiment_analysis_evaluator import Evaluator\n",
    "model_name = \"ElKulako/cryptobert\"\n",
    "tokenizer = AutoTokenizer.from_pretrained(model_name, use_fast=True)\n",
    "model = AutoModelForSequenceClassification.from_pretrained(model_name, num_labels = 3)\n",
    "filtered_data = data_organize.data[data_organize.data['entities.sentiment.basic'].notna()]\n",
    "\n",
    "evaluator_cryptobert = Evaluator(model,tokenizer,data=filtered_data)\n",
    "accuracy = evaluator_cryptobert.evaluate_model_crypto_bert()\n",
    "print(f\"Accuracy of cryptobert sentiment analysis on rows with non-NaN entities.sentiment.basic: {accuracy:.2f}\")"
   ]
  },
  {
   "cell_type": "code",
   "execution_count": 14,
   "metadata": {},
   "outputs": [
    {
     "data": {
      "image/png": "[encoded data removed]",
      "text/plain": [
       "<Figure size 432x288 with 2 Axes>"
      ]
     },
     "metadata": {
      "needs_background": "light"
     },
     "output_type": "display_data"
    }
   ],
   "source": [
    "evaluator_cryptobert.show_confusion_matrix()"
   ]
  },
  {
   "cell_type": "code",
   "execution_count": 15,
   "metadata": {},
   "outputs": [
    {
     "name": "stdout",
     "output_type": "stream",
     "text": [
      "Actual Label: Bearish\n",
      "Predicted Label: Bullish\n",
      "Text: $DOGE.X pumpers back at it. Trying to steal retail money 😂😂\n",
      "\n",
      "---------------------\n",
      "\n",
      "Actual Label: Bearish\n",
      "Predicted Label: Bullish\n",
      "Text: $AVAX.X I have to admire the resistance but all resistance is futile.\n",
      "\n",
      "---------------------\n",
      "\n",
      "Actual Label: Bearish\n",
      "Predicted Label: Bullish\n",
      "Text: $ADA.X    So rigged   All no name cryptos trending \\n\\nOk so those are more bought and desired ???  Wrong.  It’s manipulated. They hold the big ones back  $ETH.X $XRP.X\n",
      "\n",
      "---------------------\n",
      "\n",
      "Actual Label: Bearish\n",
      "Predicted Label: Bullish\n",
      "Text: $XRP.X I’m expecting most alts to run another 2-300% while XRP maintains its price under $1. Tons of other options on the market, but cults will be cults. \\n$ETH.X $DOGE.X $SOL.X $TARA.X\n",
      "\n",
      "---------------------\n",
      "\n",
      "Actual Label: Bearish\n",
      "Predicted Label: Bullish\n",
      "Text: $BTC.X this whole ETF sideshow will be the largest DUMP AND SELL THE NEWS ever\\nShitcoin carnage ahead with $ETH.X $DOGE.X $XRP.X etc\\nWait till CZ and his PONZI $BNB.X get charged\\nY’all think Blackrock and DIRTY CORRUPT WALL STREET is the saviour 😂😂\\nIf they wanted exposure to BTC they could simply add to Grayscale, Micro strategy and all the miners\\n\\nIt’s all orchestrated- DIRTY CORRUPT WALL STREET is the last thing btc should want. Satoshi is puking 🤮\n",
      "\n",
      "---------------------\n",
      "\n",
      "Actual Label: Bearish\n",
      "Predicted Label: Bullish\n",
      "Text: $BNB.X garbage right down there with cardano\n",
      "\n",
      "---------------------\n",
      "\n",
      "Actual Label: Bearish\n",
      "Predicted Label: Bullish\n",
      "Text: $XRP.X \\n\\n“The middle class trying to gain generational wealth”\\n\\nAwe how cute…..  \\n\\nWon’t happen\n",
      "\n",
      "---------------------\n",
      "\n",
      "Actual Label: Bearish\n",
      "Predicted Label: Bullish\n",
      "Text: $AVAX.X what a piece of shit\n",
      "\n",
      "---------------------\n",
      "\n",
      "Actual Label: Bearish\n",
      "Predicted Label: Bullish\n",
      "Text: $XRP.X weekend is here...dead dead until Monday!\n",
      "\n",
      "---------------------\n",
      "\n",
      "Actual Label: Bearish\n",
      "Predicted Label: Bullish\n",
      "Text: $BTC.X Bulls never expect a 70% drop from here 😂😂😂🔪🥂🐻🍾\n",
      "\n",
      "---------------------\n",
      "\n"
     ]
    }
   ],
   "source": [
    "evaluator_cryptobert.show_bad_samples(num=10)"
   ]
  }
 ],
 "metadata": {
  "kernelspec": {
   "display_name": "Python 3",
   "language": "python",
   "name": "python3"
  },
  "language_info": {
   "codemirror_mode": {
    "name": "ipython",
    "version": 3
   },
   "file_extension": ".py",
   "mimetype": "text/x-python",
   "name": "python",
   "nbconvert_exporter": "python",
   "pygments_lexer": "ipython3",
   "version": "3.9.6"
  },
  "orig_nbformat": 4
 },
 "nbformat": 4,
 "nbformat_minor": 2
}
