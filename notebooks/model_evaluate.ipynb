{
 "cells": [
  {
   "cell_type": "code",
   "execution_count": 1,
   "metadata": {},
   "outputs": [
    {
     "name": "stderr",
     "output_type": "stream",
     "text": [
      "c:\\Users\\Asus\\AppData\\Local\\Programs\\Python\\Python39\\lib\\site-packages\\requests\\__init__.py:102: RequestsDependencyWarning: urllib3 (1.26.18) or chardet (5.2.0)/charset_normalizer (2.0.12) doesn't match a supported version!\n",
      "  warnings.warn(\"urllib3 ({}) or chardet ({})/charset_normalizer ({}) doesn't match a supported \"\n"
     ]
    },
    {
     "name": "stdout",
     "output_type": "stream",
     "text": [
      "WARNING:tensorflow:From c:\\Users\\Asus\\AppData\\Local\\Programs\\Python\\Python39\\lib\\site-packages\\keras\\src\\losses.py:2976: The name tf.losses.sparse_softmax_cross_entropy is deprecated. Please use tf.compat.v1.losses.sparse_softmax_cross_entropy instead.\n",
      "\n"
     ]
    }
   ],
   "source": [
    "import matplotlib.pyplot as plt\n",
    "import pandas as pd\n",
    "import sys\n",
    "sys.path.append('../')\n",
    "sys.path.append('../scripts')\n",
    "from scripts.data_handler import DataOrganize, DataModes"
   ]
  },
  {
   "cell_type": "code",
   "execution_count": 2,
   "metadata": {},
   "outputs": [
    {
     "name": "stderr",
     "output_type": "stream",
     "text": [
      "100%|██████████| 1000/1000 [00:13<00:00, 73.34it/s]\n",
      "100%|██████████| 744/744 [00:00<00:00, 47614.55it/s]\n"
     ]
    },
    {
     "name": "stdout",
     "output_type": "stream",
     "text": [
      "744\n"
     ]
    }
   ],
   "source": [
    "data_organize = DataOrganize()\n",
    "data_organize.create_clean_data(mode=DataModes.RANDOM_1000)\n",
    "print(len(data_organize.data))"
   ]
  },
  {
   "cell_type": "code",
   "execution_count": 10,
   "metadata": {},
   "outputs": [
    {
     "name": "stderr",
     "output_type": "stream",
     "text": [
      "Vader Sentiment Analysis: 100%|██████████| 429/429 [00:06<00:00, 66.49it/s]\n"
     ]
    },
    {
     "name": "stdout",
     "output_type": "stream",
     "text": [
      "Accuracy of Vader sentiment analysis on rows with non-NaN entities.sentiment.basic: 0.81\n"
     ]
    }
   ],
   "source": [
    "from tqdm import tqdm\n",
    "from sklearn.metrics import accuracy_score,confusion_matrix\n",
    "from scripts.sentiment_analysis_evaluator import Evaluator\n",
    "\n",
    "filtered_data = data_organize.data[data_organize.data['entities.sentiment.basic'].notna()]\n",
    "\n",
    "evaluator_vader = Evaluator(model = None,tokenizer = None,data=filtered_data)\n",
    "accuracy = evaluator_vader.evaluate_vader()\n",
    "print(f\"Accuracy of Vader sentiment analysis on rows with non-NaN entities.sentiment.basic: {accuracy:.2f}\")"
   ]
  },
  {
   "cell_type": "code",
   "execution_count": null,
   "metadata": {},
   "outputs": [],
   "source": [
    "evaluator_vader.show_confusion_matrix()"
   ]
  },
  {
   "cell_type": "code",
   "execution_count": null,
   "metadata": {},
   "outputs": [],
   "source": [
    "evaluator_vader.show_bad_samples(num = 10)\n"
   ]
  },
  {
   "cell_type": "code",
   "execution_count": null,
   "metadata": {},
   "outputs": [],
   "source": [
    "import pandas as pd\n",
    "import numpy as np\n",
    "import torch\n",
    "from tqdm import tqdm\n",
    "from sklearn.metrics import accuracy_score\n",
    "from transformers import AutoTokenizer, AutoModelForSequenceClassification\n",
    "from scripts.sentiment_analysis_evaluator import Evaluator\n",
    "\n",
    "from tqdm import tqdm\n",
    "from sklearn.metrics import accuracy_score,confusion_matrix\n",
    "\n",
    "model_name = \"ProsusAI/finbert\"\n",
    "tokenizer = AutoTokenizer.from_pretrained(model_name)\n",
    "model = AutoModelForSequenceClassification.from_pretrained(model_name)\n",
    "\n",
    "filtered_data = data_organize.data[data_organize.data['entities.sentiment.basic'].notna()]\n",
    "\n",
    "evaluator_finbert = Evaluator(model,tokenizer,data=filtered_data)\n",
    "accuracy = evaluator_finbert.evaluate_model_fin_bert()\n",
    "print(f\"Accuracy of finbert sentiment analysis on rows with non-NaN entities.sentiment.basic: {accuracy:.2f}\")"
   ]
  },
  {
   "cell_type": "code",
   "execution_count": null,
   "metadata": {},
   "outputs": [],
   "source": [
    "evaluator_finbert.show_confusion_matrix()"
   ]
  },
  {
   "cell_type": "code",
   "execution_count": null,
   "metadata": {},
   "outputs": [],
   "source": [
    "evaluator_finbert.show_bad_samples(num=10)"
   ]
  },
  {
   "cell_type": "code",
   "execution_count": 3,
   "metadata": {},
   "outputs": [
    {
     "name": "stderr",
     "output_type": "stream",
     "text": [
      "CryptoBERT Sentiment Analysis: 100%|██████████| 434/434 [00:43<00:00,  9.96it/s]"
     ]
    },
    {
     "name": "stdout",
     "output_type": "stream",
     "text": [
      "Accuracy of cryptobert sentiment analysis on rows with non-NaN entities.sentiment.basic: 0.85\n"
     ]
    },
    {
     "name": "stderr",
     "output_type": "stream",
     "text": [
      "\n"
     ]
    }
   ],
   "source": [
    "from transformers import TextClassificationPipeline, AutoModelForSequenceClassification, AutoTokenizer\n",
    "import importlib\n",
    "class_name = importlib.import_module(\"sentiment_analysis_evaluator\")\n",
    "importlib.reload(class_name)\n",
    "from scripts.sentiment_analysis_evaluator import Evaluator\n",
    "model_name = \"ElKulako/cryptobert\"\n",
    "tokenizer = AutoTokenizer.from_pretrained(model_name, use_fast=True)\n",
    "model = AutoModelForSequenceClassification.from_pretrained(model_name, num_labels = 3)\n",
    "filtered_data = data_organize.data[data_organize.data['entities.sentiment.basic'].notna()]\n",
    "\n",
    "evaluator_cryptobert = Evaluator(model,tokenizer,data=filtered_data)\n",
    "accuracy = evaluator_cryptobert.evaluate_model_crypto_bert()\n",
    "print(f\"Accuracy of cryptobert sentiment analysis on rows with non-NaN entities.sentiment.basic: {accuracy:.2f}\")"
   ]
  },
  {
   "cell_type": "code",
   "execution_count": 4,
   "metadata": {},
   "outputs": [
    {
     "name": "stdout",
     "output_type": "stream",
     "text": [
      "Accuracy of cryptobert sentiment analysis on rows with non-NaN entities.sentiment.basic: 0.85\n"
     ]
    },
    {
     "data": {
      "image/png": "[encoded data removed]",
      "text/plain": [
       "<Figure size 432x288 with 2 Axes>"
      ]
     },
     "metadata": {
      "needs_background": "light"
     },
     "output_type": "display_data"
    }
   ],
   "source": [
    "print(f\"Accuracy of cryptobert sentiment analysis on rows with non-NaN entities.sentiment.basic: {accuracy:.2f}\")\n",
    "evaluator_cryptobert.show_confusion_matrix()"
   ]
  },
  {
   "cell_type": "code",
   "execution_count": 6,
   "metadata": {},
   "outputs": [
    {
     "name": "stdout",
     "output_type": "stream",
     "text": [
      "Actual Label: Bearish\n",
      "Predicted Label: Bullish\n",
      "Text: $BTC.X \\nLove to see $31-31,500 and watch all the shitcoins get absolutely REKT\\n$ETH.X $ADA.X $DOGE.X $XRP.X\n",
      "Actual Label: Bearish\n",
      "Predicted Label: Bullish\n",
      "Text: $ADA.X Here&#39;s the truth. This meme token is STILL down 16% on the year. XRP is the chosen one. You know what to do..\n",
      "Actual Label: Bearish\n",
      "Predicted Label: Bullish\n",
      "Text: $ADA.X    So rigged   All no name cryptos trending \\n\\nOk so those are more bought and desired ???  Wrong.  It’s manipulated. They hold the big ones back  $ETH.X $XRP.X\n",
      "Actual Label: Bearish\n",
      "Predicted Label: Bullish\n",
      "Text: $ADA.X \\nPeople who buy and hold ADA\n",
      "Actual Label: Bearish\n",
      "Predicted Label: Bullish\n",
      "Text: $ADA.X \\nAny mention of an ADA ETF?, asking for a friend.\n",
      "Actual Label: Bearish\n",
      "Predicted Label: Bullish\n",
      "Text: $ADA.X $ADA Cardano **Perps Short** \\nTarget PT .05 \\nhttps://www.coingecko.com/en/coins/cardano\n",
      "Actual Label: Bearish\n",
      "Predicted Label: Bullish\n",
      "Text: $ADA.X here&#39;s the truth. XRP is the chosen one. Ada is a meme coin who&#39;s acronym is the same as the American Dental Association.. You know what to do.\n",
      "Actual Label: Bearish\n",
      "Predicted Label: Bullish\n",
      "Text: $ADA.X  \\n \\nIs Cardano Under SEC’s Radar?  \\nADA Delisting Rumour Looms  \\nPublished By  \\nNidhi Kolhapur  \\nAUGUST 23, 2023\n",
      "Actual Label: Bearish\n",
      "Predicted Label: Bullish\n",
      "Text: $ADA.X Boo! My 4-5$ PT might be a pipe dream... :/ Oh well, worth a high risk shot. 0% confidence it will get there. Only banking on ADA has survived many bear markets.\n",
      "Actual Label: Bearish\n",
      "Predicted Label: Bullish\n",
      "Text: $ADA.X \\n\\nCrypto Delistings Happening at Record Clip Despite Bitcoin Comeback\\n\\nBY PYMNTSOCTOBER 24, 2023\n",
      "Actual Label: Bearish\n",
      "Predicted Label: Bullish\n",
      "Text: $ADA.X \\n\\nIs ADA a risky investment?\\n\\nYou could lose all the money you invest.\\n\\nYou should be prepared to lose all the money you invest in cryptoassets. The cryptoasset market is generally unregulated.Sep 5, 2023\n",
      "Actual Label: Bearish\n",
      "Predicted Label: Bullish\n",
      "Text: $ADA.X breaks out to fresh highs… $DOGE.X still a shitcoin\n",
      "Actual Label: Bearish\n",
      "Predicted Label: Bullish\n",
      "Text: $ADA.X \\n\\nDOGE/BUSD and SHIB/BUSD are among \\n\\nthe 23 margin trading pairs that will get\\n\\nDELISTED  from Binance on November 9.\n",
      "Actual Label: Bearish\n",
      "Predicted Label: Bullish\n",
      "Text: $ADA.X Still down 12% for the year?? What a joke token. XRP is the real deal.\n",
      "Actual Label: Bearish\n",
      "Predicted Label: Bullish\n",
      "Text: $ADA.X $BTC.X $DOGE.X $ETH.X $SOL.X and never will 😂😂🤷‍♂️\n",
      "Actual Label: Bearish\n",
      "Predicted Label: Bullish\n",
      "Text: $ADA.X This dog shit ever gonna take off again?\n",
      "Actual Label: Bearish\n",
      "Predicted Label: Bullish\n",
      "Text: $ADA.X \\n\\nBinance announced it will delist 23 margin trading pairs, including prominent ones like ADA/BUSD and the memecoins DOGE/BUSD and SHIB/BUSD, on November 9, with automatic closure and settlement of positions for these pairs.2 days ago\n",
      "Actual Label: Bearish\n",
      "Predicted Label: Bullish\n",
      "Text: $ADA.X \\n\\nCoinbase boss Brian Armstrong: SEC suggested change that would have triggered the end of the crypto industry in America\\n\\n“Let’s go to court and find out what the court says.”\\n\\nBY \\n\\nCHLOE TAYLOR\\n\\nJuly 31, 2023 7:38 AM EDT\n",
      "Actual Label: Bearish\n",
      "Predicted Label: Bullish\n",
      "Text: $ADA.X \\nRobinhood To Delist Cardano, Polygon, and Solana Tokens\\n\\nBy \\n\\nKYLE TORPEY\\n\\nPublished June 09, 2023\n",
      "Actual Label: Bearish\n",
      "Predicted Label: Bullish\n",
      "Text: $ADA.X I thought were dead\n"
     ]
    }
   ],
   "source": [
    "evaluator_cryptobert.show_bad_samples(num=20)"
   ]
  },
  {
   "cell_type": "code",
   "execution_count": 7,
   "metadata": {},
   "outputs": [
    {
     "ename": "KeyboardInterrupt",
     "evalue": "",
     "output_type": "error",
     "traceback": [
      "\u001b[1;31m---------------------------------------------------------------------------\u001b[0m",
      "\u001b[1;31mKeyboardInterrupt\u001b[0m                         Traceback (most recent call last)",
      "\u001b[1;32m~\\AppData\\Local\\Temp/ipykernel_15792/419746658.py\u001b[0m in \u001b[0;36m<module>\u001b[1;34m\u001b[0m\n\u001b[0;32m     11\u001b[0m \u001b[0mmodel_name\u001b[0m \u001b[1;33m=\u001b[0m \u001b[1;34m\"kk08/CryptoBERT\"\u001b[0m\u001b[1;33m\u001b[0m\u001b[1;33m\u001b[0m\u001b[0m\n\u001b[0;32m     12\u001b[0m \u001b[0mtokenizer\u001b[0m \u001b[1;33m=\u001b[0m \u001b[0mBertTokenizer\u001b[0m\u001b[1;33m.\u001b[0m\u001b[0mfrom_pretrained\u001b[0m\u001b[1;33m(\u001b[0m\u001b[0mmodel_name\u001b[0m\u001b[1;33m,\u001b[0m \u001b[0muse_fast\u001b[0m\u001b[1;33m=\u001b[0m\u001b[1;32mTrue\u001b[0m\u001b[1;33m)\u001b[0m\u001b[1;33m\u001b[0m\u001b[1;33m\u001b[0m\u001b[0m\n\u001b[1;32m---> 13\u001b[1;33m \u001b[0mmodel\u001b[0m \u001b[1;33m=\u001b[0m \u001b[0mBertForSequenceClassification\u001b[0m\u001b[1;33m.\u001b[0m\u001b[0mfrom_pretrained\u001b[0m\u001b[1;33m(\u001b[0m\u001b[0mmodel_name\u001b[0m\u001b[1;33m,\u001b[0m \u001b[0mnum_labels\u001b[0m \u001b[1;33m=\u001b[0m \u001b[1;36m2\u001b[0m\u001b[1;33m)\u001b[0m\u001b[1;33m\u001b[0m\u001b[1;33m\u001b[0m\u001b[0m\n\u001b[0m\u001b[0;32m     14\u001b[0m \u001b[0mfiltered_data\u001b[0m \u001b[1;33m=\u001b[0m \u001b[0mdata_organize\u001b[0m\u001b[1;33m.\u001b[0m\u001b[0mdata\u001b[0m\u001b[1;33m[\u001b[0m\u001b[0mdata_organize\u001b[0m\u001b[1;33m.\u001b[0m\u001b[0mdata\u001b[0m\u001b[1;33m[\u001b[0m\u001b[1;34m'entities.sentiment.basic'\u001b[0m\u001b[1;33m]\u001b[0m\u001b[1;33m.\u001b[0m\u001b[0mnotna\u001b[0m\u001b[1;33m(\u001b[0m\u001b[1;33m)\u001b[0m\u001b[1;33m]\u001b[0m\u001b[1;33m\u001b[0m\u001b[1;33m\u001b[0m\u001b[0m\n\u001b[0;32m     15\u001b[0m \u001b[1;33m\u001b[0m\u001b[0m\n",
      "\u001b[1;32mc:\\Users\\Asus\\AppData\\Local\\Programs\\Python\\Python39\\lib\\site-packages\\transformers\\modeling_utils.py\u001b[0m in \u001b[0;36mfrom_pretrained\u001b[1;34m(cls, pretrained_model_name_or_path, config, cache_dir, ignore_mismatched_sizes, force_download, local_files_only, token, revision, use_safetensors, *model_args, **kwargs)\u001b[0m\n\u001b[0;32m   2698\u001b[0m \u001b[1;33m\u001b[0m\u001b[0m\n\u001b[0;32m   2699\u001b[0m         \u001b[1;32mwith\u001b[0m \u001b[0mContextManagers\u001b[0m\u001b[1;33m(\u001b[0m\u001b[0minit_contexts\u001b[0m\u001b[1;33m)\u001b[0m\u001b[1;33m:\u001b[0m\u001b[1;33m\u001b[0m\u001b[1;33m\u001b[0m\u001b[0m\n\u001b[1;32m-> 2700\u001b[1;33m             \u001b[0mmodel\u001b[0m \u001b[1;33m=\u001b[0m \u001b[0mcls\u001b[0m\u001b[1;33m(\u001b[0m\u001b[0mconfig\u001b[0m\u001b[1;33m,\u001b[0m \u001b[1;33m*\u001b[0m\u001b[0mmodel_args\u001b[0m\u001b[1;33m,\u001b[0m \u001b[1;33m**\u001b[0m\u001b[0mmodel_kwargs\u001b[0m\u001b[1;33m)\u001b[0m\u001b[1;33m\u001b[0m\u001b[1;33m\u001b[0m\u001b[0m\n\u001b[0m\u001b[0;32m   2701\u001b[0m \u001b[1;33m\u001b[0m\u001b[0m\n\u001b[0;32m   2702\u001b[0m         \u001b[1;31m# Check first if we are `from_pt`\u001b[0m\u001b[1;33m\u001b[0m\u001b[1;33m\u001b[0m\u001b[1;33m\u001b[0m\u001b[0m\n",
      "\u001b[1;32mc:\\Users\\Asus\\AppData\\Local\\Programs\\Python\\Python39\\lib\\site-packages\\transformers\\models\\bert\\modeling_bert.py\u001b[0m in \u001b[0;36m__init__\u001b[1;34m(self, config)\u001b[0m\n\u001b[0;32m   1521\u001b[0m         \u001b[0mself\u001b[0m\u001b[1;33m.\u001b[0m\u001b[0mconfig\u001b[0m \u001b[1;33m=\u001b[0m \u001b[0mconfig\u001b[0m\u001b[1;33m\u001b[0m\u001b[1;33m\u001b[0m\u001b[0m\n\u001b[0;32m   1522\u001b[0m \u001b[1;33m\u001b[0m\u001b[0m\n\u001b[1;32m-> 1523\u001b[1;33m         \u001b[0mself\u001b[0m\u001b[1;33m.\u001b[0m\u001b[0mbert\u001b[0m \u001b[1;33m=\u001b[0m \u001b[0mBertModel\u001b[0m\u001b[1;33m(\u001b[0m\u001b[0mconfig\u001b[0m\u001b[1;33m)\u001b[0m\u001b[1;33m\u001b[0m\u001b[1;33m\u001b[0m\u001b[0m\n\u001b[0m\u001b[0;32m   1524\u001b[0m         classifier_dropout = (\n\u001b[0;32m   1525\u001b[0m             \u001b[0mconfig\u001b[0m\u001b[1;33m.\u001b[0m\u001b[0mclassifier_dropout\u001b[0m \u001b[1;32mif\u001b[0m \u001b[0mconfig\u001b[0m\u001b[1;33m.\u001b[0m\u001b[0mclassifier_dropout\u001b[0m \u001b[1;32mis\u001b[0m \u001b[1;32mnot\u001b[0m \u001b[1;32mNone\u001b[0m \u001b[1;32melse\u001b[0m \u001b[0mconfig\u001b[0m\u001b[1;33m.\u001b[0m\u001b[0mhidden_dropout_prob\u001b[0m\u001b[1;33m\u001b[0m\u001b[1;33m\u001b[0m\u001b[0m\n",
      "\u001b[1;32mc:\\Users\\Asus\\AppData\\Local\\Programs\\Python\\Python39\\lib\\site-packages\\transformers\\models\\bert\\modeling_bert.py\u001b[0m in \u001b[0;36m__init__\u001b[1;34m(self, config, add_pooling_layer)\u001b[0m\n\u001b[0;32m    890\u001b[0m \u001b[1;33m\u001b[0m\u001b[0m\n\u001b[0;32m    891\u001b[0m         \u001b[0mself\u001b[0m\u001b[1;33m.\u001b[0m\u001b[0membeddings\u001b[0m \u001b[1;33m=\u001b[0m \u001b[0mBertEmbeddings\u001b[0m\u001b[1;33m(\u001b[0m\u001b[0mconfig\u001b[0m\u001b[1;33m)\u001b[0m\u001b[1;33m\u001b[0m\u001b[1;33m\u001b[0m\u001b[0m\n\u001b[1;32m--> 892\u001b[1;33m         \u001b[0mself\u001b[0m\u001b[1;33m.\u001b[0m\u001b[0mencoder\u001b[0m \u001b[1;33m=\u001b[0m \u001b[0mBertEncoder\u001b[0m\u001b[1;33m(\u001b[0m\u001b[0mconfig\u001b[0m\u001b[1;33m)\u001b[0m\u001b[1;33m\u001b[0m\u001b[1;33m\u001b[0m\u001b[0m\n\u001b[0m\u001b[0;32m    893\u001b[0m \u001b[1;33m\u001b[0m\u001b[0m\n\u001b[0;32m    894\u001b[0m         \u001b[0mself\u001b[0m\u001b[1;33m.\u001b[0m\u001b[0mpooler\u001b[0m \u001b[1;33m=\u001b[0m \u001b[0mBertPooler\u001b[0m\u001b[1;33m(\u001b[0m\u001b[0mconfig\u001b[0m\u001b[1;33m)\u001b[0m \u001b[1;32mif\u001b[0m \u001b[0madd_pooling_layer\u001b[0m \u001b[1;32melse\u001b[0m \u001b[1;32mNone\u001b[0m\u001b[1;33m\u001b[0m\u001b[1;33m\u001b[0m\u001b[0m\n",
      "\u001b[1;32mc:\\Users\\Asus\\AppData\\Local\\Programs\\Python\\Python39\\lib\\site-packages\\transformers\\models\\bert\\modeling_bert.py\u001b[0m in \u001b[0;36m__init__\u001b[1;34m(self, config)\u001b[0m\n\u001b[0;32m    558\u001b[0m         \u001b[0msuper\u001b[0m\u001b[1;33m(\u001b[0m\u001b[1;33m)\u001b[0m\u001b[1;33m.\u001b[0m\u001b[0m__init__\u001b[0m\u001b[1;33m(\u001b[0m\u001b[1;33m)\u001b[0m\u001b[1;33m\u001b[0m\u001b[1;33m\u001b[0m\u001b[0m\n\u001b[0;32m    559\u001b[0m         \u001b[0mself\u001b[0m\u001b[1;33m.\u001b[0m\u001b[0mconfig\u001b[0m \u001b[1;33m=\u001b[0m \u001b[0mconfig\u001b[0m\u001b[1;33m\u001b[0m\u001b[1;33m\u001b[0m\u001b[0m\n\u001b[1;32m--> 560\u001b[1;33m         \u001b[0mself\u001b[0m\u001b[1;33m.\u001b[0m\u001b[0mlayer\u001b[0m \u001b[1;33m=\u001b[0m \u001b[0mnn\u001b[0m\u001b[1;33m.\u001b[0m\u001b[0mModuleList\u001b[0m\u001b[1;33m(\u001b[0m\u001b[1;33m[\u001b[0m\u001b[0mBertLayer\u001b[0m\u001b[1;33m(\u001b[0m\u001b[0mconfig\u001b[0m\u001b[1;33m)\u001b[0m \u001b[1;32mfor\u001b[0m \u001b[0m_\u001b[0m \u001b[1;32min\u001b[0m \u001b[0mrange\u001b[0m\u001b[1;33m(\u001b[0m\u001b[0mconfig\u001b[0m\u001b[1;33m.\u001b[0m\u001b[0mnum_hidden_layers\u001b[0m\u001b[1;33m)\u001b[0m\u001b[1;33m]\u001b[0m\u001b[1;33m)\u001b[0m\u001b[1;33m\u001b[0m\u001b[1;33m\u001b[0m\u001b[0m\n\u001b[0m\u001b[0;32m    561\u001b[0m         \u001b[0mself\u001b[0m\u001b[1;33m.\u001b[0m\u001b[0mgradient_checkpointing\u001b[0m \u001b[1;33m=\u001b[0m \u001b[1;32mFalse\u001b[0m\u001b[1;33m\u001b[0m\u001b[1;33m\u001b[0m\u001b[0m\n\u001b[0;32m    562\u001b[0m \u001b[1;33m\u001b[0m\u001b[0m\n",
      "\u001b[1;32mc:\\Users\\Asus\\AppData\\Local\\Programs\\Python\\Python39\\lib\\site-packages\\transformers\\models\\bert\\modeling_bert.py\u001b[0m in \u001b[0;36m<listcomp>\u001b[1;34m(.0)\u001b[0m\n\u001b[0;32m    558\u001b[0m         \u001b[0msuper\u001b[0m\u001b[1;33m(\u001b[0m\u001b[1;33m)\u001b[0m\u001b[1;33m.\u001b[0m\u001b[0m__init__\u001b[0m\u001b[1;33m(\u001b[0m\u001b[1;33m)\u001b[0m\u001b[1;33m\u001b[0m\u001b[1;33m\u001b[0m\u001b[0m\n\u001b[0;32m    559\u001b[0m         \u001b[0mself\u001b[0m\u001b[1;33m.\u001b[0m\u001b[0mconfig\u001b[0m \u001b[1;33m=\u001b[0m \u001b[0mconfig\u001b[0m\u001b[1;33m\u001b[0m\u001b[1;33m\u001b[0m\u001b[0m\n\u001b[1;32m--> 560\u001b[1;33m         \u001b[0mself\u001b[0m\u001b[1;33m.\u001b[0m\u001b[0mlayer\u001b[0m \u001b[1;33m=\u001b[0m \u001b[0mnn\u001b[0m\u001b[1;33m.\u001b[0m\u001b[0mModuleList\u001b[0m\u001b[1;33m(\u001b[0m\u001b[1;33m[\u001b[0m\u001b[0mBertLayer\u001b[0m\u001b[1;33m(\u001b[0m\u001b[0mconfig\u001b[0m\u001b[1;33m)\u001b[0m \u001b[1;32mfor\u001b[0m \u001b[0m_\u001b[0m \u001b[1;32min\u001b[0m \u001b[0mrange\u001b[0m\u001b[1;33m(\u001b[0m\u001b[0mconfig\u001b[0m\u001b[1;33m.\u001b[0m\u001b[0mnum_hidden_layers\u001b[0m\u001b[1;33m)\u001b[0m\u001b[1;33m]\u001b[0m\u001b[1;33m)\u001b[0m\u001b[1;33m\u001b[0m\u001b[1;33m\u001b[0m\u001b[0m\n\u001b[0m\u001b[0;32m    561\u001b[0m         \u001b[0mself\u001b[0m\u001b[1;33m.\u001b[0m\u001b[0mgradient_checkpointing\u001b[0m \u001b[1;33m=\u001b[0m \u001b[1;32mFalse\u001b[0m\u001b[1;33m\u001b[0m\u001b[1;33m\u001b[0m\u001b[0m\n\u001b[0;32m    562\u001b[0m \u001b[1;33m\u001b[0m\u001b[0m\n",
      "\u001b[1;32mc:\\Users\\Asus\\AppData\\Local\\Programs\\Python\\Python39\\lib\\site-packages\\transformers\\models\\bert\\modeling_bert.py\u001b[0m in \u001b[0;36m__init__\u001b[1;34m(self, config)\u001b[0m\n\u001b[0;32m    473\u001b[0m         \u001b[0mself\u001b[0m\u001b[1;33m.\u001b[0m\u001b[0mchunk_size_feed_forward\u001b[0m \u001b[1;33m=\u001b[0m \u001b[0mconfig\u001b[0m\u001b[1;33m.\u001b[0m\u001b[0mchunk_size_feed_forward\u001b[0m\u001b[1;33m\u001b[0m\u001b[1;33m\u001b[0m\u001b[0m\n\u001b[0;32m    474\u001b[0m         \u001b[0mself\u001b[0m\u001b[1;33m.\u001b[0m\u001b[0mseq_len_dim\u001b[0m \u001b[1;33m=\u001b[0m \u001b[1;36m1\u001b[0m\u001b[1;33m\u001b[0m\u001b[1;33m\u001b[0m\u001b[0m\n\u001b[1;32m--> 475\u001b[1;33m         \u001b[0mself\u001b[0m\u001b[1;33m.\u001b[0m\u001b[0mattention\u001b[0m \u001b[1;33m=\u001b[0m \u001b[0mBertAttention\u001b[0m\u001b[1;33m(\u001b[0m\u001b[0mconfig\u001b[0m\u001b[1;33m)\u001b[0m\u001b[1;33m\u001b[0m\u001b[1;33m\u001b[0m\u001b[0m\n\u001b[0m\u001b[0;32m    476\u001b[0m         \u001b[0mself\u001b[0m\u001b[1;33m.\u001b[0m\u001b[0mis_decoder\u001b[0m \u001b[1;33m=\u001b[0m \u001b[0mconfig\u001b[0m\u001b[1;33m.\u001b[0m\u001b[0mis_decoder\u001b[0m\u001b[1;33m\u001b[0m\u001b[1;33m\u001b[0m\u001b[0m\n\u001b[0;32m    477\u001b[0m         \u001b[0mself\u001b[0m\u001b[1;33m.\u001b[0m\u001b[0madd_cross_attention\u001b[0m \u001b[1;33m=\u001b[0m \u001b[0mconfig\u001b[0m\u001b[1;33m.\u001b[0m\u001b[0madd_cross_attention\u001b[0m\u001b[1;33m\u001b[0m\u001b[1;33m\u001b[0m\u001b[0m\n",
      "\u001b[1;32mc:\\Users\\Asus\\AppData\\Local\\Programs\\Python\\Python39\\lib\\site-packages\\transformers\\models\\bert\\modeling_bert.py\u001b[0m in \u001b[0;36m__init__\u001b[1;34m(self, config, position_embedding_type)\u001b[0m\n\u001b[0;32m    393\u001b[0m     \u001b[1;32mdef\u001b[0m \u001b[0m__init__\u001b[0m\u001b[1;33m(\u001b[0m\u001b[0mself\u001b[0m\u001b[1;33m,\u001b[0m \u001b[0mconfig\u001b[0m\u001b[1;33m,\u001b[0m \u001b[0mposition_embedding_type\u001b[0m\u001b[1;33m=\u001b[0m\u001b[1;32mNone\u001b[0m\u001b[1;33m)\u001b[0m\u001b[1;33m:\u001b[0m\u001b[1;33m\u001b[0m\u001b[1;33m\u001b[0m\u001b[0m\n\u001b[0;32m    394\u001b[0m         \u001b[0msuper\u001b[0m\u001b[1;33m(\u001b[0m\u001b[1;33m)\u001b[0m\u001b[1;33m.\u001b[0m\u001b[0m__init__\u001b[0m\u001b[1;33m(\u001b[0m\u001b[1;33m)\u001b[0m\u001b[1;33m\u001b[0m\u001b[1;33m\u001b[0m\u001b[0m\n\u001b[1;32m--> 395\u001b[1;33m         \u001b[0mself\u001b[0m\u001b[1;33m.\u001b[0m\u001b[0mself\u001b[0m \u001b[1;33m=\u001b[0m \u001b[0mBertSelfAttention\u001b[0m\u001b[1;33m(\u001b[0m\u001b[0mconfig\u001b[0m\u001b[1;33m,\u001b[0m \u001b[0mposition_embedding_type\u001b[0m\u001b[1;33m=\u001b[0m\u001b[0mposition_embedding_type\u001b[0m\u001b[1;33m)\u001b[0m\u001b[1;33m\u001b[0m\u001b[1;33m\u001b[0m\u001b[0m\n\u001b[0m\u001b[0;32m    396\u001b[0m         \u001b[0mself\u001b[0m\u001b[1;33m.\u001b[0m\u001b[0moutput\u001b[0m \u001b[1;33m=\u001b[0m \u001b[0mBertSelfOutput\u001b[0m\u001b[1;33m(\u001b[0m\u001b[0mconfig\u001b[0m\u001b[1;33m)\u001b[0m\u001b[1;33m\u001b[0m\u001b[1;33m\u001b[0m\u001b[0m\n\u001b[0;32m    397\u001b[0m         \u001b[0mself\u001b[0m\u001b[1;33m.\u001b[0m\u001b[0mpruned_heads\u001b[0m \u001b[1;33m=\u001b[0m \u001b[0mset\u001b[0m\u001b[1;33m(\u001b[0m\u001b[1;33m)\u001b[0m\u001b[1;33m\u001b[0m\u001b[1;33m\u001b[0m\u001b[0m\n",
      "\u001b[1;32mc:\\Users\\Asus\\AppData\\Local\\Programs\\Python\\Python39\\lib\\site-packages\\transformers\\models\\bert\\modeling_bert.py\u001b[0m in \u001b[0;36m__init__\u001b[1;34m(self, config, position_embedding_type)\u001b[0m\n\u001b[0;32m    256\u001b[0m \u001b[1;33m\u001b[0m\u001b[0m\n\u001b[0;32m    257\u001b[0m         \u001b[0mself\u001b[0m\u001b[1;33m.\u001b[0m\u001b[0mquery\u001b[0m \u001b[1;33m=\u001b[0m \u001b[0mnn\u001b[0m\u001b[1;33m.\u001b[0m\u001b[0mLinear\u001b[0m\u001b[1;33m(\u001b[0m\u001b[0mconfig\u001b[0m\u001b[1;33m.\u001b[0m\u001b[0mhidden_size\u001b[0m\u001b[1;33m,\u001b[0m \u001b[0mself\u001b[0m\u001b[1;33m.\u001b[0m\u001b[0mall_head_size\u001b[0m\u001b[1;33m)\u001b[0m\u001b[1;33m\u001b[0m\u001b[1;33m\u001b[0m\u001b[0m\n\u001b[1;32m--> 258\u001b[1;33m         \u001b[0mself\u001b[0m\u001b[1;33m.\u001b[0m\u001b[0mkey\u001b[0m \u001b[1;33m=\u001b[0m \u001b[0mnn\u001b[0m\u001b[1;33m.\u001b[0m\u001b[0mLinear\u001b[0m\u001b[1;33m(\u001b[0m\u001b[0mconfig\u001b[0m\u001b[1;33m.\u001b[0m\u001b[0mhidden_size\u001b[0m\u001b[1;33m,\u001b[0m \u001b[0mself\u001b[0m\u001b[1;33m.\u001b[0m\u001b[0mall_head_size\u001b[0m\u001b[1;33m)\u001b[0m\u001b[1;33m\u001b[0m\u001b[1;33m\u001b[0m\u001b[0m\n\u001b[0m\u001b[0;32m    259\u001b[0m         \u001b[0mself\u001b[0m\u001b[1;33m.\u001b[0m\u001b[0mvalue\u001b[0m \u001b[1;33m=\u001b[0m \u001b[0mnn\u001b[0m\u001b[1;33m.\u001b[0m\u001b[0mLinear\u001b[0m\u001b[1;33m(\u001b[0m\u001b[0mconfig\u001b[0m\u001b[1;33m.\u001b[0m\u001b[0mhidden_size\u001b[0m\u001b[1;33m,\u001b[0m \u001b[0mself\u001b[0m\u001b[1;33m.\u001b[0m\u001b[0mall_head_size\u001b[0m\u001b[1;33m)\u001b[0m\u001b[1;33m\u001b[0m\u001b[1;33m\u001b[0m\u001b[0m\n\u001b[0;32m    260\u001b[0m \u001b[1;33m\u001b[0m\u001b[0m\n",
      "\u001b[1;32mc:\\Users\\Asus\\AppData\\Local\\Programs\\Python\\Python39\\lib\\site-packages\\torch\\nn\\modules\\linear.py\u001b[0m in \u001b[0;36m__init__\u001b[1;34m(self, in_features, out_features, bias, device, dtype)\u001b[0m\n\u001b[0;32m     99\u001b[0m         \u001b[1;32melse\u001b[0m\u001b[1;33m:\u001b[0m\u001b[1;33m\u001b[0m\u001b[1;33m\u001b[0m\u001b[0m\n\u001b[0;32m    100\u001b[0m             \u001b[0mself\u001b[0m\u001b[1;33m.\u001b[0m\u001b[0mregister_parameter\u001b[0m\u001b[1;33m(\u001b[0m\u001b[1;34m'bias'\u001b[0m\u001b[1;33m,\u001b[0m \u001b[1;32mNone\u001b[0m\u001b[1;33m)\u001b[0m\u001b[1;33m\u001b[0m\u001b[1;33m\u001b[0m\u001b[0m\n\u001b[1;32m--> 101\u001b[1;33m         \u001b[0mself\u001b[0m\u001b[1;33m.\u001b[0m\u001b[0mreset_parameters\u001b[0m\u001b[1;33m(\u001b[0m\u001b[1;33m)\u001b[0m\u001b[1;33m\u001b[0m\u001b[1;33m\u001b[0m\u001b[0m\n\u001b[0m\u001b[0;32m    102\u001b[0m \u001b[1;33m\u001b[0m\u001b[0m\n\u001b[0;32m    103\u001b[0m     \u001b[1;32mdef\u001b[0m \u001b[0mreset_parameters\u001b[0m\u001b[1;33m(\u001b[0m\u001b[0mself\u001b[0m\u001b[1;33m)\u001b[0m \u001b[1;33m->\u001b[0m \u001b[1;32mNone\u001b[0m\u001b[1;33m:\u001b[0m\u001b[1;33m\u001b[0m\u001b[1;33m\u001b[0m\u001b[0m\n",
      "\u001b[1;32mc:\\Users\\Asus\\AppData\\Local\\Programs\\Python\\Python39\\lib\\site-packages\\torch\\nn\\modules\\linear.py\u001b[0m in \u001b[0;36mreset_parameters\u001b[1;34m(self)\u001b[0m\n\u001b[0;32m    105\u001b[0m         \u001b[1;31m# uniform(-1/sqrt(in_features), 1/sqrt(in_features)). For details, see\u001b[0m\u001b[1;33m\u001b[0m\u001b[1;33m\u001b[0m\u001b[1;33m\u001b[0m\u001b[0m\n\u001b[0;32m    106\u001b[0m         \u001b[1;31m# https://github.com/pytorch/pytorch/issues/57109\u001b[0m\u001b[1;33m\u001b[0m\u001b[1;33m\u001b[0m\u001b[1;33m\u001b[0m\u001b[0m\n\u001b[1;32m--> 107\u001b[1;33m         \u001b[0minit\u001b[0m\u001b[1;33m.\u001b[0m\u001b[0mkaiming_uniform_\u001b[0m\u001b[1;33m(\u001b[0m\u001b[0mself\u001b[0m\u001b[1;33m.\u001b[0m\u001b[0mweight\u001b[0m\u001b[1;33m,\u001b[0m \u001b[0ma\u001b[0m\u001b[1;33m=\u001b[0m\u001b[0mmath\u001b[0m\u001b[1;33m.\u001b[0m\u001b[0msqrt\u001b[0m\u001b[1;33m(\u001b[0m\u001b[1;36m5\u001b[0m\u001b[1;33m)\u001b[0m\u001b[1;33m)\u001b[0m\u001b[1;33m\u001b[0m\u001b[1;33m\u001b[0m\u001b[0m\n\u001b[0m\u001b[0;32m    108\u001b[0m         \u001b[1;32mif\u001b[0m \u001b[0mself\u001b[0m\u001b[1;33m.\u001b[0m\u001b[0mbias\u001b[0m \u001b[1;32mis\u001b[0m \u001b[1;32mnot\u001b[0m \u001b[1;32mNone\u001b[0m\u001b[1;33m:\u001b[0m\u001b[1;33m\u001b[0m\u001b[1;33m\u001b[0m\u001b[0m\n\u001b[0;32m    109\u001b[0m             \u001b[0mfan_in\u001b[0m\u001b[1;33m,\u001b[0m \u001b[0m_\u001b[0m \u001b[1;33m=\u001b[0m \u001b[0minit\u001b[0m\u001b[1;33m.\u001b[0m\u001b[0m_calculate_fan_in_and_fan_out\u001b[0m\u001b[1;33m(\u001b[0m\u001b[0mself\u001b[0m\u001b[1;33m.\u001b[0m\u001b[0mweight\u001b[0m\u001b[1;33m)\u001b[0m\u001b[1;33m\u001b[0m\u001b[1;33m\u001b[0m\u001b[0m\n",
      "\u001b[1;32mc:\\Users\\Asus\\AppData\\Local\\Programs\\Python\\Python39\\lib\\site-packages\\torch\\nn\\init.py\u001b[0m in \u001b[0;36mkaiming_uniform_\u001b[1;34m(tensor, a, mode, nonlinearity)\u001b[0m\n\u001b[0;32m    410\u001b[0m     \u001b[0mbound\u001b[0m \u001b[1;33m=\u001b[0m \u001b[0mmath\u001b[0m\u001b[1;33m.\u001b[0m\u001b[0msqrt\u001b[0m\u001b[1;33m(\u001b[0m\u001b[1;36m3.0\u001b[0m\u001b[1;33m)\u001b[0m \u001b[1;33m*\u001b[0m \u001b[0mstd\u001b[0m  \u001b[1;31m# Calculate uniform bounds from standard deviation\u001b[0m\u001b[1;33m\u001b[0m\u001b[1;33m\u001b[0m\u001b[0m\n\u001b[0;32m    411\u001b[0m     \u001b[1;32mwith\u001b[0m \u001b[0mtorch\u001b[0m\u001b[1;33m.\u001b[0m\u001b[0mno_grad\u001b[0m\u001b[1;33m(\u001b[0m\u001b[1;33m)\u001b[0m\u001b[1;33m:\u001b[0m\u001b[1;33m\u001b[0m\u001b[1;33m\u001b[0m\u001b[0m\n\u001b[1;32m--> 412\u001b[1;33m         \u001b[1;32mreturn\u001b[0m \u001b[0mtensor\u001b[0m\u001b[1;33m.\u001b[0m\u001b[0muniform_\u001b[0m\u001b[1;33m(\u001b[0m\u001b[1;33m-\u001b[0m\u001b[0mbound\u001b[0m\u001b[1;33m,\u001b[0m \u001b[0mbound\u001b[0m\u001b[1;33m)\u001b[0m\u001b[1;33m\u001b[0m\u001b[1;33m\u001b[0m\u001b[0m\n\u001b[0m\u001b[0;32m    413\u001b[0m \u001b[1;33m\u001b[0m\u001b[0m\n\u001b[0;32m    414\u001b[0m \u001b[1;33m\u001b[0m\u001b[0m\n",
      "\u001b[1;31mKeyboardInterrupt\u001b[0m: "
     ]
    }
   ],
   "source": [
    "from transformers import BertTokenizer, BertForSequenceClassification\n",
    "from transformers import pipeline\n",
    "\n",
    "\n",
    "\n",
    "from transformers import TextClassificationPipeline, AutoModelForSequenceClassification, AutoTokenizer\n",
    "import importlib\n",
    "class_name = importlib.import_module(\"sentiment_analysis_evaluator\")\n",
    "importlib.reload(class_name)\n",
    "from scripts.sentiment_analysis_evaluator import Evaluator\n",
    "model_name = \"kk08/CryptoBERT\"\n",
    "tokenizer = BertTokenizer.from_pretrained(model_name, use_fast=True)\n",
    "model = BertForSequenceClassification.from_pretrained(model_name, num_labels = 2)\n",
    "filtered_data = data_organize.data[data_organize.data['entities.sentiment.basic'].notna()]\n",
    "\n",
    "evaluator_cryptobert2 = Evaluator(model,tokenizer,data=filtered_data)\n",
    "accuracy = evaluator_cryptobert2.evaluate_model_crypto_bert2()\n"
   ]
  },
  {
   "cell_type": "code",
   "execution_count": 5,
   "metadata": {},
   "outputs": [
    {
     "name": "stdout",
     "output_type": "stream",
     "text": [
      "Accuracy of cryptobert version 2 sentiment analysis on rows with non-NaN entities.sentiment.basic: 0.75\n"
     ]
    },
    {
     "data": {
      "image/png": "[encoded data removed]",
      "text/plain": [
       "<Figure size 432x288 with 2 Axes>"
      ]
     },
     "metadata": {
      "needs_background": "light"
     },
     "output_type": "display_data"
    }
   ],
   "source": [
    "print(f\"Accuracy of cryptobert version 2 sentiment analysis on rows with non-NaN entities.sentiment.basic: {accuracy:.2f}\")\n",
    "evaluator_cryptobert2.show_confusion_matrix()"
   ]
  },
  {
   "cell_type": "code",
   "execution_count": 6,
   "metadata": {},
   "outputs": [
    {
     "name": "stdout",
     "output_type": "stream",
     "text": [
      "Actual Label: Bearish\n",
      "Predicted Label: Bullish\n",
      "Text: $AVAX.X the dilution is real here\n",
      "Prediction Confidency \n",
      "tensor([[0.0444, 0.9556]], grad_fn=<SoftmaxBackward0>)\n",
      "\n",
      "---------------------\n",
      "\n",
      "Actual Label: Bearish\n",
      "Predicted Label: Bullish\n",
      "Text: $DOGE.X dreaming of a life where I bought Solana instead of Doge\n",
      "Prediction Confidency \n",
      "tensor([[0.0907, 0.9093]], grad_fn=<SoftmaxBackward0>)\n",
      "\n",
      "---------------------\n",
      "\n",
      "Actual Label: Bearish\n",
      "Predicted Label: Bullish\n",
      "Text: $ADA.X  at the neckline. Target is 30 cents... I doubt that, but anything possible. Head and shoulders pattern?  My opinion.\n",
      "Prediction Confidency \n",
      "tensor([[0.0989, 0.9011]], grad_fn=<SoftmaxBackward0>)\n",
      "\n",
      "---------------------\n",
      "\n",
      "Actual Label: Bearish\n",
      "Predicted Label: Bullish\n",
      "Text: $MATIC.X lol told you retards only the beginning\n",
      "Prediction Confidency \n",
      "tensor([[0.1693, 0.8307]], grad_fn=<SoftmaxBackward0>)\n",
      "\n",
      "---------------------\n",
      "\n",
      "Actual Label: Bearish\n",
      "Predicted Label: Bullish\n",
      "Text: $DOGE.X This is probably gonna sell off after Elons latest statements and the backlash\n",
      "Prediction Confidency \n",
      "tensor([[0.0441, 0.9559]], grad_fn=<SoftmaxBackward0>)\n",
      "\n",
      "---------------------\n",
      "\n",
      "Actual Label: Bearish\n",
      "Predicted Label: Bullish\n",
      "Text: $BNB.X 😂 52 week low coming hard and fast 😂 can&#39;t wait.\n",
      "Prediction Confidency \n",
      "tensor([[0.0946, 0.9054]], grad_fn=<SoftmaxBackward0>)\n",
      "\n",
      "---------------------\n",
      "\n",
      "Actual Label: Bearish\n",
      "Predicted Label: Bullish\n",
      "Text: $AVAX.X  This is still a good bargain. Hodl Hodl Hodl\n",
      "Prediction Confidency \n",
      "tensor([[0.0311, 0.9689]], grad_fn=<SoftmaxBackward0>)\n",
      "\n",
      "---------------------\n",
      "\n",
      "Actual Label: Bearish\n",
      "Predicted Label: Bullish\n",
      "Text: $VGX.X Steve tried to sell voyager to $FTT.X then SBF went under. Now he’s trying to sell to CZ and then $BNB.X will go under. The point is…SHORT BNB TO GET YOUR $$$$ BACK!🚀🚀🚀🚀\n",
      "Prediction Confidency \n",
      "tensor([[0.1073, 0.8927]], grad_fn=<SoftmaxBackward0>)\n",
      "\n",
      "---------------------\n",
      "\n",
      "Actual Label: Bearish\n",
      "Predicted Label: Bullish\n",
      "Text: $DOGE.X I thought we were going to make it for a moment today\n",
      "Prediction Confidency \n",
      "tensor([[0.0423, 0.9577]], grad_fn=<SoftmaxBackward0>)\n",
      "\n",
      "---------------------\n",
      "\n",
      "Actual Label: Bearish\n",
      "Predicted Label: Bullish\n",
      "Text: $XRP.X  back to 37 cents\n",
      "Prediction Confidency \n",
      "tensor([[0.0901, 0.9099]], grad_fn=<SoftmaxBackward0>)\n",
      "\n",
      "---------------------\n",
      "\n"
     ]
    }
   ],
   "source": [
    "evaluator_cryptobert2.show_bad_samples(10)"
   ]
  },
  {
   "cell_type": "code",
   "execution_count": 5,
   "metadata": {},
   "outputs": [
    {
     "name": "stderr",
     "output_type": "stream",
     "text": [
      "CryptoBERT Sentiment Analysis: 100%|██████████| 434/434 [02:51<00:00,  2.53it/s]\n"
     ]
    },
    {
     "name": "stdout",
     "output_type": "stream",
     "text": [
      "Accuracy of fine tuned cryptobert sentiment analysis on rows with non-NaN entities.sentiment.basic: 0.92\n"
     ]
    }
   ],
   "source": [
    "from transformers import TextClassificationPipeline, AutoModelForSequenceClassification, AutoTokenizer\n",
    "from scripts.sentiment_analysis_evaluator import Evaluator\n",
    "import torch\n",
    "model_name = \"ElKulako/cryptobert\"\n",
    "tokenizer = AutoTokenizer.from_pretrained(model_name, use_fast=True)\n",
    "model = AutoModelForSequenceClassification.from_pretrained(model_name, num_labels = 3)\n",
    "device = torch.device(\"cuda\" if torch.cuda.is_available() else \"cpu\")\n",
    "model.to(device)\n",
    "model.load_state_dict(torch.load(\"../models/fine_tuned_cryptobert.pth\",map_location=torch.device('cpu')))\n",
    "\n",
    "filtered_data = data_organize.data[data_organize.data['entities.sentiment.basic'].notna()]\n",
    "\n",
    "evaluator_finetuned_cryptobert = Evaluator(model,tokenizer,data=filtered_data)\n",
    "accuracy = evaluator_finetuned_cryptobert.evaluate_model_crypto_bert()\n",
    "print(f\"Accuracy of fine tuned cryptobert sentiment analysis on rows with non-NaN entities.sentiment.basic: {accuracy:.2f}\")"
   ]
  },
  {
   "cell_type": "code",
   "execution_count": 6,
   "metadata": {},
   "outputs": [
    {
     "name": "stdout",
     "output_type": "stream",
     "text": [
      "Accuracy of fine tuned cryptobert version 2 sentiment analysis on rows with non-NaN entities.sentiment.basic: 0.92\n"
     ]
    },
    {
     "data": {
      "image/png": "[encoded data removed]",
      "text/plain": [
       "<Figure size 432x288 with 2 Axes>"
      ]
     },
     "metadata": {
      "needs_background": "light"
     },
     "output_type": "display_data"
    }
   ],
   "source": [
    "print(f\"Accuracy of fine tuned cryptobert version 2 sentiment analysis on rows with non-NaN entities.sentiment.basic: {accuracy:.2f}\")\n",
    "evaluator_finetuned_cryptobert.show_confusion_matrix()"
   ]
  },
  {
   "cell_type": "code",
   "execution_count": 6,
   "metadata": {},
   "outputs": [
    {
     "name": "stdout",
     "output_type": "stream",
     "text": [
      "Actual Label: Bearish\n",
      "Predicted Label: Bullish\n",
      "Text: $ADA.X I thought were dead\n",
      "Prediction Confidency \n",
      "tensor([[8.3339e-04, 6.1794e-05, 9.9910e-01]], grad_fn=<SoftmaxBackward0>)\n",
      "\n",
      "---------------------\n",
      "\n",
      "Actual Label: Bearish\n",
      "Predicted Label: Bullish\n",
      "Text: $ADA.X    So rigged   All no name cryptos trending \\n\\nOk so those are more bought and desired ???  Wrong.  It’s manipulated. They hold the big ones back  $ETH.X $XRP.X\n",
      "Prediction Confidency \n",
      "tensor([[1.2837e-03, 2.8274e-05, 9.9869e-01]], grad_fn=<SoftmaxBackward0>)\n",
      "\n",
      "---------------------\n",
      "\n",
      "Actual Label: Bearish\n",
      "Predicted Label: Bullish\n",
      "Text: $ADA.X \\n\\nDOGE/BUSD and SHIB/BUSD are among \\n\\nthe 23 margin trading pairs that will get\\n\\nDELISTED  from Binance on November 9.\n",
      "Prediction Confidency \n",
      "tensor([[1.9073e-03, 1.4143e-05, 9.9808e-01]], grad_fn=<SoftmaxBackward0>)\n",
      "\n",
      "---------------------\n",
      "\n",
      "Actual Label: Bearish\n",
      "Predicted Label: Bullish\n",
      "Text: $ADA.X Here&#39;s the truth. This meme token is STILL down 16% on the year. XRP is the chosen one. You know what to do..\n",
      "Prediction Confidency \n",
      "tensor([[1.9961e-01, 2.7023e-05, 8.0037e-01]], grad_fn=<SoftmaxBackward0>)\n",
      "\n",
      "---------------------\n",
      "\n",
      "Actual Label: Bearish\n",
      "Predicted Label: Bullish\n",
      "Text: $BTC.X \\nLove to see $31-31,500 and watch all the shitcoins get absolutely REKT\\n$ETH.X $ADA.X $DOGE.X $XRP.X\n",
      "Prediction Confidency \n",
      "tensor([[1.0627e-03, 3.0026e-05, 9.9891e-01]], grad_fn=<SoftmaxBackward0>)\n",
      "\n",
      "---------------------\n",
      "\n",
      "Actual Label: Bearish\n",
      "Predicted Label: Bullish\n",
      "Text: $ADA.X \\nRobinhood To Delist Cardano, Polygon, and Solana Tokens\\n\\nBy \\n\\nKYLE TORPEY\\n\\nPublished June 09, 2023\n",
      "Prediction Confidency \n",
      "tensor([[8.1592e-03, 1.4543e-05, 9.9183e-01]], grad_fn=<SoftmaxBackward0>)\n",
      "\n",
      "---------------------\n",
      "\n",
      "Actual Label: Bearish\n",
      "Predicted Label: Bullish\n",
      "Text: $ADA.X Boo! My 4-5$ PT might be a pipe dream... :/ Oh well, worth a high risk shot. 0% confidence it will get there. Only banking on ADA has survived many bear markets.\n",
      "Prediction Confidency \n",
      "tensor([[4.5370e-03, 7.1405e-05, 9.9539e-01]], grad_fn=<SoftmaxBackward0>)\n",
      "\n",
      "---------------------\n",
      "\n",
      "Actual Label: Bearish\n",
      "Predicted Label: Bullish\n",
      "Text: $ADA.X Ada is -48.53% against Bitcoin this year girls. Bitcoin boring boomer coin? 🤣\n",
      "Prediction Confidency \n",
      "tensor([[2.0482e-01, 6.9092e-05, 7.9511e-01]], grad_fn=<SoftmaxBackward0>)\n",
      "\n",
      "---------------------\n",
      "\n",
      "Actual Label: Bearish\n",
      "Predicted Label: Bullish\n",
      "Text: $ADA.X \\n\\nCoinbase boss Brian Armstrong: SEC suggested change that would have triggered the end of the crypto industry in America\\n\\n“Let’s go to court and find out what the court says.”\\n\\nBY \\n\\nCHLOE TAYLOR\\n\\nJuly 31, 2023 7:38 AM EDT\n",
      "Prediction Confidency \n",
      "tensor([[3.4743e-03, 1.3234e-05, 9.9651e-01]], grad_fn=<SoftmaxBackward0>)\n",
      "\n",
      "---------------------\n",
      "\n",
      "Actual Label: Bearish\n",
      "Predicted Label: Bullish\n",
      "Text: $ADA.X \\n\\nIs ADA a risky investment?\\n\\nYou could lose all the money you invest.\\n\\nYou should be prepared to lose all the money you invest in cryptoassets. The cryptoasset market is generally unregulated.Sep 5, 2023\n",
      "Prediction Confidency \n",
      "tensor([[4.7622e-01, 2.5462e-05, 5.2376e-01]], grad_fn=<SoftmaxBackward0>)\n",
      "\n",
      "---------------------\n",
      "\n"
     ]
    }
   ],
   "source": [
    "evaluator_finetuned_cryptobert.show_bad_samples(10)"
   ]
  }
 ],
 "metadata": {
  "kernelspec": {
   "display_name": "Python 3",
   "language": "python",
   "name": "python3"
  },
  "language_info": {
   "codemirror_mode": {
    "name": "ipython",
    "version": 3
   },
   "file_extension": ".py",
   "mimetype": "text/x-python",
   "name": "python",
   "nbconvert_exporter": "python",
   "pygments_lexer": "ipython3",
   "version": "3.9.6"
  },
  "orig_nbformat": 4
 },
 "nbformat": 4,
 "nbformat_minor": 2
}
