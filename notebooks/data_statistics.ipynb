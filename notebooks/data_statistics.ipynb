{
 "cells": [
  {
   "cell_type": "code",
   "execution_count": 1,
   "metadata": {},
   "outputs": [
    {
     "name": "stderr",
     "output_type": "stream",
     "text": [
      "c:\\Users\\Asus\\AppData\\Local\\Programs\\Python\\Python39\\lib\\site-packages\\requests\\__init__.py:102: RequestsDependencyWarning: urllib3 (1.26.18) or chardet (5.2.0)/charset_normalizer (2.0.12) doesn't match a supported version!\n",
      "  warnings.warn(\"urllib3 ({}) or chardet ({})/charset_normalizer ({}) doesn't match a supported \"\n"
     ]
    },
    {
     "name": "stdout",
     "output_type": "stream",
     "text": [
      "WARNING:tensorflow:From c:\\Users\\Asus\\AppData\\Local\\Programs\\Python\\Python39\\lib\\site-packages\\keras\\src\\losses.py:2976: The name tf.losses.sparse_softmax_cross_entropy is deprecated. Please use tf.compat.v1.losses.sparse_softmax_cross_entropy instead.\n",
      "\n"
     ]
    }
   ],
   "source": [
    "import matplotlib.pyplot as plt\n",
    "import pandas as pd\n",
    "import sys\n",
    "sys.path.append('../')\n",
    "sys.path.append('../scripts')\n",
    "from scripts.data_handler import DataOrganize, DataModes"
   ]
  },
  {
   "cell_type": "code",
   "execution_count": 2,
   "metadata": {},
   "outputs": [
    {
     "name": "stderr",
     "output_type": "stream",
     "text": [
      "100%|██████████| 1000/1000 [00:16<00:00, 61.99it/s]\n"
     ]
    },
    {
     "name": "stdout",
     "output_type": "stream",
     "text": [
      "<class 'str'>\n"
     ]
    },
    {
     "name": "stderr",
     "output_type": "stream",
     "text": [
      "100%|██████████| 736/736 [00:00<00:00, 52573.45it/s]"
     ]
    },
    {
     "name": "stdout",
     "output_type": "stream",
     "text": [
      "736\n"
     ]
    },
    {
     "name": "stderr",
     "output_type": "stream",
     "text": [
      "\n"
     ]
    }
   ],
   "source": [
    "data_organize = DataOrganize()\n",
    "data_organize.create_clean_data(mode=DataModes.RANDOM_1000)\n",
    "print(len(data_organize.data))"
   ]
  },
  {
   "cell_type": "code",
   "execution_count": 3,
   "metadata": {},
   "outputs": [
    {
     "name": "stdout",
     "output_type": "stream",
     "text": [
      "total number of rows:736\n",
      "Number of rows with user.followers > 1000: 144\n",
      "Number of rows with entities.sentiment.basic not None: 373\n",
      "Number of rows with both conditions: 11\n",
      "------------------------------------------------------------\n",
      "Number of rows with user.followers > 5000: 117\n"
     ]
    }
   ],
   "source": [
    "# Count rows where user.followers > 1000\n",
    "followers_condition = data_organize.data['user.followers'] > 1000\n",
    "followers_count = followers_condition.sum()\n",
    "\n",
    "# Count rows where user.followers > 5000\n",
    "followers_super_condition = data_organize.data['user.followers'] > 5000\n",
    "followers_super_count = followers_super_condition.sum()\n",
    "\n",
    "# Count rows where entities.sentiment.basic is not None\n",
    "sentiment_condition = data_organize.data['entities.sentiment.basic'].notna()\n",
    "sentiment_count = sentiment_condition.sum()\n",
    "\n",
    "# Count rows where both conditions are true\n",
    "both_conditions_count = (followers_condition & sentiment_condition).sum()\n",
    "\n",
    "print(f\"total number of rows:{len(data_organize.data)}\")\n",
    "print(f\"Number of rows with user.followers > 1000: {followers_count}\")\n",
    "print(f\"Number of rows with entities.sentiment.basic not None: {sentiment_count}\")\n",
    "print(f\"Number of rows with both conditions: {both_conditions_count}\")\n",
    "print(\"-\" * 60)\n",
    "print(f\"Number of rows with user.followers > 5000: {followers_super_count}\")"
   ]
  },
  {
   "cell_type": "code",
   "execution_count": 4,
   "metadata": {},
   "outputs": [
    {
     "name": "stdout",
     "output_type": "stream",
     "text": [
      "Percentage of 'Bearish' sentiments in the entire dataset: 16.89%\n",
      "Percentage of 'Bullish' sentiments in the entire dataset: 83.11%\n",
      "Percentage of 'Bearish' sentiments in rows with user.followers > 1000: 36.36%\n",
      "Percentage of 'Bullish' sentiments in rows with user.followers > 1000: 63.64%\n"
     ]
    }
   ],
   "source": [
    "total_sentiments = sentiment_condition.sum()\n",
    "bearish_percentage = (data_organize.data.loc[sentiment_condition, 'entities.sentiment.basic'] == 'Bearish').sum() / total_sentiments * 100\n",
    "bullish_percentage = (data_organize.data.loc[sentiment_condition, 'entities.sentiment.basic'] == 'Bullish').sum() / total_sentiments * 100\n",
    "\n",
    "print(f\"Percentage of 'Bearish' sentiments in the entire dataset: {bearish_percentage:.2f}%\")\n",
    "print(f\"Percentage of 'Bullish' sentiments in the entire dataset: {bullish_percentage:.2f}%\")\n",
    "\n",
    "# Calculate percentages for the rows with user.followers > 1000\n",
    "followers_condition = data_organize.data['user.followers'] > 1000\n",
    "total_sentiments_followers = (followers_condition & sentiment_condition).sum()\n",
    "bearish_percentage_followers = (data_organize.data.loc[followers_condition & sentiment_condition, 'entities.sentiment.basic'] == 'Bearish').sum() / total_sentiments_followers * 100\n",
    "bullish_percentage_followers = (data_organize.data.loc[followers_condition & sentiment_condition, 'entities.sentiment.basic'] == 'Bullish').sum() / total_sentiments_followers * 100\n",
    "\n",
    "print(f\"Percentage of 'Bearish' sentiments in rows with user.followers > 1000: {bearish_percentage_followers:.2f}%\")\n",
    "print(f\"Percentage of 'Bullish' sentiments in rows with user.followers > 1000: {bullish_percentage_followers:.2f}%\")"
   ]
  }
 ],
 "metadata": {
  "kernelspec": {
   "display_name": "Python 3",
   "language": "python",
   "name": "python3"
  },
  "language_info": {
   "codemirror_mode": {
    "name": "ipython",
    "version": 3
   },
   "file_extension": ".py",
   "mimetype": "text/x-python",
   "name": "python",
   "nbconvert_exporter": "python",
   "pygments_lexer": "ipython3",
   "version": "3.9.6"
  },
  "orig_nbformat": 4
 },
 "nbformat": 4,
 "nbformat_minor": 2
}
