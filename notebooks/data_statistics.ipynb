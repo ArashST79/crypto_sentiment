{
 "cells": [
  {
   "cell_type": "code",
   "execution_count": 14,
   "metadata": {},
   "outputs": [],
   "source": [
    "import matplotlib.pyplot as plt\n",
    "import pandas as pd\n",
    "import sys\n",
    "sys.path.append('../')\n",
    "sys.path.append('../scripts')\n",
    "from scripts.data_analysis import DataOrganize"
   ]
  },
  {
   "cell_type": "code",
   "execution_count": 15,
   "metadata": {},
   "outputs": [
    {
     "name": "stderr",
     "output_type": "stream",
     "text": [
      "c:\\Users\\Asus\\AppData\\Local\\Programs\\Python\\Python39\\lib\\site-packages\\IPython\\core\\interactiveshell.py:3457: DtypeWarning: Columns (19,49,50,51,52,819,853,872,873,906,929,952,973,974,975,976,1000,1046,2308,2316,2324,2332,2340,2348,2356,2364,2372,2380,2388,2392,2393,2394,2395,2396,2397,2398,2399,2400,2401,2402,2425,2467,2468,2469,2470) have mixed types.Specify dtype option on import or set low_memory=False.\n",
      "  exec(code_obj, self.user_global_ns, self.user_ns)\n",
      "c:\\Users\\Asus\\AppData\\Local\\Programs\\Python\\Python39\\lib\\site-packages\\IPython\\core\\interactiveshell.py:3457: DtypeWarning: Columns (72,73,79,80,86,87,93,94,100,101,107,108,114,115,128,129,135,136,847,848,849,850,851,852,853,854,861,862,863,864,865,866,867,868,875,876,877,878,879,880,881,882,889,901,902,903,904,905,906,907,908,929,930,931,932,933,934,935,936,1650,1693,1694,1701,1707,1713,1719,1725,1731,1737,1749,1755,1761,1763,1764) have mixed types.Specify dtype option on import or set low_memory=False.\n",
      "  exec(code_obj, self.user_global_ns, self.user_ns)\n"
     ]
    },
    {
     "name": "stdout",
     "output_type": "stream",
     "text": [
      "10000\n"
     ]
    }
   ],
   "source": [
    "import glob\n",
    "\n",
    "files = glob.glob('../data/StockTwits.*_messages.csv')\n",
    "\n",
    "dfs = []\n",
    "\n",
    "for file in files:\n",
    "    df = pd.read_csv(file, nrows=1000)\n",
    "    dfs.append(df)\n",
    "\n",
    "data = pd.concat(dfs, ignore_index=True)\n",
    "print(len(data))"
   ]
  },
  {
   "cell_type": "code",
   "execution_count": 16,
   "metadata": {},
   "outputs": [
    {
     "name": "stderr",
     "output_type": "stream",
     "text": [
      "100%|██████████| 10000/10000 [02:42<00:00, 61.63it/s]\n"
     ]
    },
    {
     "name": "stdout",
     "output_type": "stream",
     "text": [
      "<class 'str'>\n"
     ]
    },
    {
     "name": "stderr",
     "output_type": "stream",
     "text": [
      "100%|██████████| 6855/6855 [00:00<00:00, 55713.61it/s]"
     ]
    },
    {
     "name": "stdout",
     "output_type": "stream",
     "text": [
      "6855\n"
     ]
    },
    {
     "name": "stderr",
     "output_type": "stream",
     "text": [
      "\n"
     ]
    }
   ],
   "source": [
    "data_organize = DataOrganize(data)\n",
    "data_organize.clean_data()\n",
    "print(len(data_organize.data))"
   ]
  },
  {
   "cell_type": "code",
   "execution_count": 19,
   "metadata": {},
   "outputs": [
    {
     "name": "stdout",
     "output_type": "stream",
     "text": [
      "total number of rows:6855\n",
      "Number of rows with user.followers > 1000: 978\n",
      "Number of rows with entities.sentiment.basic not None: 3775\n",
      "Number of rows with both conditions: 103\n",
      "------------------------------------------------------------\n",
      "Number of rows with user.followers > 5000: 812\n"
     ]
    }
   ],
   "source": [
    "# Count rows where user.followers > 1000\n",
    "followers_condition = data_organize.data['user.followers'] > 1000\n",
    "followers_count = followers_condition.sum()\n",
    "\n",
    "# Count rows where user.followers > 5000\n",
    "followers_super_condition = data_organize.data['user.followers'] > 5000\n",
    "followers_super_count = followers_super_condition.sum()\n",
    "\n",
    "# Count rows where entities.sentiment.basic is not None\n",
    "sentiment_condition = data_organize.data['entities.sentiment.basic'].notna()\n",
    "sentiment_count = sentiment_condition.sum()\n",
    "\n",
    "# Count rows where both conditions are true\n",
    "both_conditions_count = (followers_condition & sentiment_condition).sum()\n",
    "\n",
    "print(f\"total number of rows:{len(data_organize.data)}\")\n",
    "print(f\"Number of rows with user.followers > 1000: {followers_count}\")\n",
    "print(f\"Number of rows with entities.sentiment.basic not None: {sentiment_count}\")\n",
    "print(f\"Number of rows with both conditions: {both_conditions_count}\")\n",
    "print(\"-\" * 60)\n",
    "print(f\"Number of rows with user.followers > 5000: {followers_super_count}\")"
   ]
  },
  {
   "cell_type": "code",
   "execution_count": 20,
   "metadata": {},
   "outputs": [
    {
     "name": "stdout",
     "output_type": "stream",
     "text": [
      "Percentage of 'Bearish' sentiments in the entire dataset: 12.29%\n",
      "Percentage of 'Bullish' sentiments in the entire dataset: 87.71%\n",
      "Percentage of 'Bearish' sentiments in rows with user.followers > 1000: 31.07%\n",
      "Percentage of 'Bullish' sentiments in rows with user.followers > 1000: 68.93%\n"
     ]
    }
   ],
   "source": [
    "total_sentiments = sentiment_condition.sum()\n",
    "bearish_percentage = (data_organize.data.loc[sentiment_condition, 'entities.sentiment.basic'] == 'Bearish').sum() / total_sentiments * 100\n",
    "bullish_percentage = (data_organize.data.loc[sentiment_condition, 'entities.sentiment.basic'] == 'Bullish').sum() / total_sentiments * 100\n",
    "\n",
    "print(f\"Percentage of 'Bearish' sentiments in the entire dataset: {bearish_percentage:.2f}%\")\n",
    "print(f\"Percentage of 'Bullish' sentiments in the entire dataset: {bullish_percentage:.2f}%\")\n",
    "\n",
    "# Calculate percentages for the rows with user.followers > 1000\n",
    "followers_condition = data_organize.data['user.followers'] > 1000\n",
    "total_sentiments_followers = (followers_condition & sentiment_condition).sum()\n",
    "bearish_percentage_followers = (data_organize.data.loc[followers_condition & sentiment_condition, 'entities.sentiment.basic'] == 'Bearish').sum() / total_sentiments_followers * 100\n",
    "bullish_percentage_followers = (data_organize.data.loc[followers_condition & sentiment_condition, 'entities.sentiment.basic'] == 'Bullish').sum() / total_sentiments_followers * 100\n",
    "\n",
    "print(f\"Percentage of 'Bearish' sentiments in rows with user.followers > 1000: {bearish_percentage_followers:.2f}%\")\n",
    "print(f\"Percentage of 'Bullish' sentiments in rows with user.followers > 1000: {bullish_percentage_followers:.2f}%\")"
   ]
  }
 ],
 "metadata": {
  "kernelspec": {
   "display_name": "Python 3",
   "language": "python",
   "name": "python3"
  },
  "language_info": {
   "codemirror_mode": {
    "name": "ipython",
    "version": 3
   },
   "file_extension": ".py",
   "mimetype": "text/x-python",
   "name": "python",
   "nbconvert_exporter": "python",
   "pygments_lexer": "ipython3",
   "version": "3.9.6"
  },
  "orig_nbformat": 4
 },
 "nbformat": 4,
 "nbformat_minor": 2
}
