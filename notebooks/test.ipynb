{
 "cells": [
  {
   "cell_type": "code",
   "execution_count": 9,
   "metadata": {},
   "outputs": [
    {
     "name": "stdout",
     "output_type": "stream",
     "text": [
      "\n",
      "DataFrame with 'Day' column as datetime.date:\n",
      "<class 'datetime.date'>\n"
     ]
    }
   ],
   "source": [
    "import pandas as pd\n",
    "from tqdm import tqdm\n",
    "import datetime\n",
    "\n",
    "# Sample DataFrame\n",
    "data = {'created_at': ['2022-01-25T12:30:00Z', '2022-01-26T14:45:00Z', '2022-01-27T10:15:00Z']}\n",
    "df_new = pd.DataFrame(data)\n",
    "\n",
    "# Assuming df_new is already defined\n",
    "\n",
    "def parse_date(x):\n",
    "    date_time_obj = datetime.datetime.strptime(x, '%Y-%m-%dT%H:%M:%SZ')\n",
    "    return date_time_obj.date()\n",
    "\n",
    "df_new['Day'] = [parse_date(x) for x in (df_new['created_at'])]\n",
    "\n",
    "\n",
    "# Now, df_new['Day'] is of type datetime.date\n",
    "print(\"\\nDataFrame with 'Day' column as datetime.date:\")\n",
    "print(type(df_new['Day'].iloc[0]))\n"
   ]
  }
 ],
 "metadata": {
  "kernelspec": {
   "display_name": "Python 3",
   "language": "python",
   "name": "python3"
  },
  "language_info": {
   "codemirror_mode": {
    "name": "ipython",
    "version": 3
   },
   "file_extension": ".py",
   "mimetype": "text/x-python",
   "name": "python",
   "nbconvert_exporter": "python",
   "pygments_lexer": "ipython3",
   "version": "3.9.6"
  },
  "orig_nbformat": 4
 },
 "nbformat": 4,
 "nbformat_minor": 2
}
