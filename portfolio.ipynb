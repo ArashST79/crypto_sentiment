{
 "cells": [
  {
   "cell_type": "code",
   "execution_count": 1,
   "metadata": {},
   "outputs": [
    {
     "name": "stderr",
     "output_type": "stream",
     "text": [
      "c:\\Users\\Asus\\AppData\\Local\\Programs\\Python\\Python39\\lib\\site-packages\\requests\\__init__.py:102: RequestsDependencyWarning: urllib3 (1.26.18) or chardet (5.2.0)/charset_normalizer (2.0.12) doesn't match a supported version!\n",
      "  warnings.warn(\"urllib3 ({}) or chardet ({})/charset_normalizer ({}) doesn't match a supported \"\n"
     ]
    }
   ],
   "source": [
    "import yfinance as yf\n",
    "import matplotlib.pyplot as plt\n",
    "import pandas as pd\n",
    "import json\n",
    "from data_analysis import DataOrganize\n",
    "from portfolio_manager import PortfolioManager\n",
    "from coins import get_top_coins"
   ]
  },
  {
   "cell_type": "code",
   "execution_count": 12,
   "metadata": {},
   "outputs": [
    {
     "name": "stdout",
     "output_type": "stream",
     "text": [
      "1000\n"
     ]
    }
   ],
   "source": [
    "import glob\n",
    "\n",
    "files = glob.glob('data/StockTwits.*_messages.csv')\n",
    "\n",
    "# Initialize an empty list to store dataframes\n",
    "dfs = []\n",
    "\n",
    "# Loop through each file and load the first 1000 rows into a dataframe\n",
    "for file in files:\n",
    "    df = pd.read_csv(file, nrows=100)\n",
    "    dfs.append(df)\n",
    "\n",
    "data = pd.concat(dfs, ignore_index=True)"
   ]
  },
  {
   "cell_type": "code",
   "execution_count": 13,
   "metadata": {},
   "outputs": [
    {
     "name": "stderr",
     "output_type": "stream",
     "text": [
      "100%|██████████| 1000/1000 [00:14<00:00, 70.58it/s]\n",
      "d:\\University\\researches\\fazli\\code\\crypto_sentiment\\data_analysis.py:59: PerformanceWarning: DataFrame is highly fragmented.  This is usually the result of calling `frame.insert` many times, which has poor performance.  Consider joining all columns at once using pd.concat(axis=1) instead.  To get a de-fragmented frame, use `newframe = frame.copy()`\n",
      "  raw_data['language'], raw_data['entities'] = zip(*[extract_features(str(x)) for x in tqdm(raw_data['body'])])\n"
     ]
    },
    {
     "name": "stdout",
     "output_type": "stream",
     "text": [
      "<class 'str'>\n"
     ]
    },
    {
     "name": "stderr",
     "output_type": "stream",
     "text": [
      "100%|██████████| 655/655 [00:00<00:00, 36393.94it/s]\n"
     ]
    },
    {
     "ename": "TypeError",
     "evalue": "object of type 'DataOrganize' has no len()",
     "output_type": "error",
     "traceback": [
      "\u001b[1;31m---------------------------------------------------------------------------\u001b[0m",
      "\u001b[1;31mTypeError\u001b[0m                                 Traceback (most recent call last)",
      "\u001b[1;32m~\\AppData\\Local\\Temp/ipykernel_9604/1302843622.py\u001b[0m in \u001b[0;36m<module>\u001b[1;34m\u001b[0m\n\u001b[0;32m      1\u001b[0m \u001b[0mdata_organize\u001b[0m \u001b[1;33m=\u001b[0m \u001b[0mDataOrganize\u001b[0m\u001b[1;33m(\u001b[0m\u001b[0mdata\u001b[0m\u001b[1;33m)\u001b[0m\u001b[1;33m\u001b[0m\u001b[1;33m\u001b[0m\u001b[0m\n\u001b[0;32m      2\u001b[0m \u001b[0mdata_organize\u001b[0m\u001b[1;33m.\u001b[0m\u001b[0mclean_data\u001b[0m\u001b[1;33m(\u001b[0m\u001b[1;33m)\u001b[0m\u001b[1;33m\u001b[0m\u001b[1;33m\u001b[0m\u001b[0m\n\u001b[1;32m----> 3\u001b[1;33m \u001b[0mprint\u001b[0m\u001b[1;33m(\u001b[0m\u001b[0mlen\u001b[0m\u001b[1;33m(\u001b[0m\u001b[0mdata_organize\u001b[0m\u001b[1;33m)\u001b[0m\u001b[1;33m)\u001b[0m\u001b[1;33m\u001b[0m\u001b[1;33m\u001b[0m\u001b[0m\n\u001b[0m",
      "\u001b[1;31mTypeError\u001b[0m: object of type 'DataOrganize' has no len()"
     ]
    }
   ],
   "source": [
    "data_organize = DataOrganize(data)\n",
    "data_organize.clean_data()"
   ]
  },
  {
   "cell_type": "code",
   "execution_count": null,
   "metadata": {},
   "outputs": [],
   "source": []
  },
  {
   "cell_type": "code",
   "execution_count": 15,
   "metadata": {},
   "outputs": [
    {
     "ename": "KeyError",
     "evalue": "'user.followers'",
     "output_type": "error",
     "traceback": [
      "\u001b[1;31m---------------------------------------------------------------------------\u001b[0m",
      "\u001b[1;31mKeyError\u001b[0m                                  Traceback (most recent call last)",
      "\u001b[1;32mc:\\Users\\Asus\\AppData\\Local\\Programs\\Python\\Python39\\lib\\site-packages\\pandas\\core\\indexes\\base.py\u001b[0m in \u001b[0;36mget_loc\u001b[1;34m(self, key, method, tolerance)\u001b[0m\n\u001b[0;32m   3360\u001b[0m             \u001b[1;32mtry\u001b[0m\u001b[1;33m:\u001b[0m\u001b[1;33m\u001b[0m\u001b[1;33m\u001b[0m\u001b[0m\n\u001b[1;32m-> 3361\u001b[1;33m                 \u001b[1;32mreturn\u001b[0m \u001b[0mself\u001b[0m\u001b[1;33m.\u001b[0m\u001b[0m_engine\u001b[0m\u001b[1;33m.\u001b[0m\u001b[0mget_loc\u001b[0m\u001b[1;33m(\u001b[0m\u001b[0mcasted_key\u001b[0m\u001b[1;33m)\u001b[0m\u001b[1;33m\u001b[0m\u001b[1;33m\u001b[0m\u001b[0m\n\u001b[0m\u001b[0;32m   3362\u001b[0m             \u001b[1;32mexcept\u001b[0m \u001b[0mKeyError\u001b[0m \u001b[1;32mas\u001b[0m \u001b[0merr\u001b[0m\u001b[1;33m:\u001b[0m\u001b[1;33m\u001b[0m\u001b[1;33m\u001b[0m\u001b[0m\n",
      "\u001b[1;32mc:\\Users\\Asus\\AppData\\Local\\Programs\\Python\\Python39\\lib\\site-packages\\pandas\\_libs\\index.pyx\u001b[0m in \u001b[0;36mpandas._libs.index.IndexEngine.get_loc\u001b[1;34m()\u001b[0m\n",
      "\u001b[1;32mc:\\Users\\Asus\\AppData\\Local\\Programs\\Python\\Python39\\lib\\site-packages\\pandas\\_libs\\index.pyx\u001b[0m in \u001b[0;36mpandas._libs.index.IndexEngine.get_loc\u001b[1;34m()\u001b[0m\n",
      "\u001b[1;32mpandas\\_libs\\hashtable_class_helper.pxi\u001b[0m in \u001b[0;36mpandas._libs.hashtable.PyObjectHashTable.get_item\u001b[1;34m()\u001b[0m\n",
      "\u001b[1;32mpandas\\_libs\\hashtable_class_helper.pxi\u001b[0m in \u001b[0;36mpandas._libs.hashtable.PyObjectHashTable.get_item\u001b[1;34m()\u001b[0m\n",
      "\u001b[1;31mKeyError\u001b[0m: 'user.followers'",
      "\nThe above exception was the direct cause of the following exception:\n",
      "\u001b[1;31mKeyError\u001b[0m                                  Traceback (most recent call last)",
      "\u001b[1;32m~\\AppData\\Local\\Temp/ipykernel_9604/2116111303.py\u001b[0m in \u001b[0;36m<module>\u001b[1;34m\u001b[0m\n\u001b[0;32m      1\u001b[0m \u001b[1;31m# Count rows where user.followers > 1000\u001b[0m\u001b[1;33m\u001b[0m\u001b[1;33m\u001b[0m\u001b[1;33m\u001b[0m\u001b[0m\n\u001b[1;32m----> 2\u001b[1;33m \u001b[0mfollowers_condition\u001b[0m \u001b[1;33m=\u001b[0m \u001b[0mdata_organize\u001b[0m\u001b[1;33m.\u001b[0m\u001b[0mdata\u001b[0m\u001b[1;33m[\u001b[0m\u001b[1;34m'user.followers'\u001b[0m\u001b[1;33m]\u001b[0m \u001b[1;33m>\u001b[0m \u001b[1;36m1000\u001b[0m\u001b[1;33m\u001b[0m\u001b[1;33m\u001b[0m\u001b[0m\n\u001b[0m\u001b[0;32m      3\u001b[0m \u001b[0mfollowers_count\u001b[0m \u001b[1;33m=\u001b[0m \u001b[0mfollowers_condition\u001b[0m\u001b[1;33m.\u001b[0m\u001b[0msum\u001b[0m\u001b[1;33m(\u001b[0m\u001b[1;33m)\u001b[0m\u001b[1;33m\u001b[0m\u001b[1;33m\u001b[0m\u001b[0m\n\u001b[0;32m      4\u001b[0m \u001b[1;33m\u001b[0m\u001b[0m\n\u001b[0;32m      5\u001b[0m \u001b[1;31m# Count rows where entities.sentiment.basic is not None\u001b[0m\u001b[1;33m\u001b[0m\u001b[1;33m\u001b[0m\u001b[1;33m\u001b[0m\u001b[0m\n",
      "\u001b[1;32mc:\\Users\\Asus\\AppData\\Local\\Programs\\Python\\Python39\\lib\\site-packages\\pandas\\core\\frame.py\u001b[0m in \u001b[0;36m__getitem__\u001b[1;34m(self, key)\u001b[0m\n\u001b[0;32m   3456\u001b[0m             \u001b[1;32mif\u001b[0m \u001b[0mself\u001b[0m\u001b[1;33m.\u001b[0m\u001b[0mcolumns\u001b[0m\u001b[1;33m.\u001b[0m\u001b[0mnlevels\u001b[0m \u001b[1;33m>\u001b[0m \u001b[1;36m1\u001b[0m\u001b[1;33m:\u001b[0m\u001b[1;33m\u001b[0m\u001b[1;33m\u001b[0m\u001b[0m\n\u001b[0;32m   3457\u001b[0m                 \u001b[1;32mreturn\u001b[0m \u001b[0mself\u001b[0m\u001b[1;33m.\u001b[0m\u001b[0m_getitem_multilevel\u001b[0m\u001b[1;33m(\u001b[0m\u001b[0mkey\u001b[0m\u001b[1;33m)\u001b[0m\u001b[1;33m\u001b[0m\u001b[1;33m\u001b[0m\u001b[0m\n\u001b[1;32m-> 3458\u001b[1;33m             \u001b[0mindexer\u001b[0m \u001b[1;33m=\u001b[0m \u001b[0mself\u001b[0m\u001b[1;33m.\u001b[0m\u001b[0mcolumns\u001b[0m\u001b[1;33m.\u001b[0m\u001b[0mget_loc\u001b[0m\u001b[1;33m(\u001b[0m\u001b[0mkey\u001b[0m\u001b[1;33m)\u001b[0m\u001b[1;33m\u001b[0m\u001b[1;33m\u001b[0m\u001b[0m\n\u001b[0m\u001b[0;32m   3459\u001b[0m             \u001b[1;32mif\u001b[0m \u001b[0mis_integer\u001b[0m\u001b[1;33m(\u001b[0m\u001b[0mindexer\u001b[0m\u001b[1;33m)\u001b[0m\u001b[1;33m:\u001b[0m\u001b[1;33m\u001b[0m\u001b[1;33m\u001b[0m\u001b[0m\n\u001b[0;32m   3460\u001b[0m                 \u001b[0mindexer\u001b[0m \u001b[1;33m=\u001b[0m \u001b[1;33m[\u001b[0m\u001b[0mindexer\u001b[0m\u001b[1;33m]\u001b[0m\u001b[1;33m\u001b[0m\u001b[1;33m\u001b[0m\u001b[0m\n",
      "\u001b[1;32mc:\\Users\\Asus\\AppData\\Local\\Programs\\Python\\Python39\\lib\\site-packages\\pandas\\core\\indexes\\base.py\u001b[0m in \u001b[0;36mget_loc\u001b[1;34m(self, key, method, tolerance)\u001b[0m\n\u001b[0;32m   3361\u001b[0m                 \u001b[1;32mreturn\u001b[0m \u001b[0mself\u001b[0m\u001b[1;33m.\u001b[0m\u001b[0m_engine\u001b[0m\u001b[1;33m.\u001b[0m\u001b[0mget_loc\u001b[0m\u001b[1;33m(\u001b[0m\u001b[0mcasted_key\u001b[0m\u001b[1;33m)\u001b[0m\u001b[1;33m\u001b[0m\u001b[1;33m\u001b[0m\u001b[0m\n\u001b[0;32m   3362\u001b[0m             \u001b[1;32mexcept\u001b[0m \u001b[0mKeyError\u001b[0m \u001b[1;32mas\u001b[0m \u001b[0merr\u001b[0m\u001b[1;33m:\u001b[0m\u001b[1;33m\u001b[0m\u001b[1;33m\u001b[0m\u001b[0m\n\u001b[1;32m-> 3363\u001b[1;33m                 \u001b[1;32mraise\u001b[0m \u001b[0mKeyError\u001b[0m\u001b[1;33m(\u001b[0m\u001b[0mkey\u001b[0m\u001b[1;33m)\u001b[0m \u001b[1;32mfrom\u001b[0m \u001b[0merr\u001b[0m\u001b[1;33m\u001b[0m\u001b[1;33m\u001b[0m\u001b[0m\n\u001b[0m\u001b[0;32m   3364\u001b[0m \u001b[1;33m\u001b[0m\u001b[0m\n\u001b[0;32m   3365\u001b[0m         \u001b[1;32mif\u001b[0m \u001b[0mis_scalar\u001b[0m\u001b[1;33m(\u001b[0m\u001b[0mkey\u001b[0m\u001b[1;33m)\u001b[0m \u001b[1;32mand\u001b[0m \u001b[0misna\u001b[0m\u001b[1;33m(\u001b[0m\u001b[0mkey\u001b[0m\u001b[1;33m)\u001b[0m \u001b[1;32mand\u001b[0m \u001b[1;32mnot\u001b[0m \u001b[0mself\u001b[0m\u001b[1;33m.\u001b[0m\u001b[0mhasnans\u001b[0m\u001b[1;33m:\u001b[0m\u001b[1;33m\u001b[0m\u001b[1;33m\u001b[0m\u001b[0m\n",
      "\u001b[1;31mKeyError\u001b[0m: 'user.followers'"
     ]
    }
   ],
   "source": [
    "# Count rows where user.followers > 1000\n",
    "followers_condition = data_organize.data['user.followers'] > 1000\n",
    "followers_count = followers_condition.sum()\n",
    "\n",
    "# Count rows where entities.sentiment.basic is not None\n",
    "sentiment_condition = data_organize.data['entities.sentiment.basic'].notna()\n",
    "sentiment_count = sentiment_condition.sum()\n",
    "\n",
    "# Count rows where both conditions are true\n",
    "both_conditions_count = (followers_condition & sentiment_condition).sum()\n",
    "\n",
    "print(f\"Number of rows with user.followers > 1000: {followers_count}\")\n",
    "print(f\"Number of rows with entities.sentiment.basic not None: {sentiment_count}\")\n",
    "print(f\"Number of rows with both conditions: {both_conditions_count}\")"
   ]
  },
  {
   "cell_type": "code",
   "execution_count": 4,
   "metadata": {},
   "outputs": [],
   "source": [
    "coins_list = [\n",
    "    {\"name\": \"Cardano\", \"symbol\": \"ADA\"},\n",
    "    {\"name\": \"Avalanche\", \"symbol\": \"AVAX\"},\n",
    "    {\"name\": \"Binance Coin\", \"symbol\": \"BNB\"},\n",
    "    {\"name\": \"Bitcoin\", \"symbol\": \"BTC\"},\n",
    "    {\"name\": \"Dogecoin\", \"symbol\": \"DOGE\"},\n",
    "    {\"name\": \"Polkadot\", \"symbol\": \"DOT\"},\n",
    "    {\"name\": \"Ethereum\", \"symbol\": \"ETH\"},\n",
    "    {\"name\": \"Polygon\", \"symbol\": \"MATIC\"},\n",
    "    {\"name\": \"Solana\", \"symbol\": \"SOL\"},\n",
    "    {\"name\": \"TRON\", \"symbol\": \"TRX\"},\n",
    "    {\"name\": \"Ripple\", \"symbol\": \"XRP\"}\n",
    "]"
   ]
  },
  {
   "cell_type": "code",
   "execution_count": 5,
   "metadata": {},
   "outputs": [
    {
     "name": "stderr",
     "output_type": "stream",
     "text": [
      "100%|██████████| 661/661 [00:00<00:00, 5718.41it/s]\n"
     ]
    }
   ],
   "source": [
    "\n",
    "coins_name = [coin['name'] for coin in coins_list]\n",
    "coins_symbol = [coin['symbol'] for coin in coins_list]\n",
    "data_organize.filter_by_coin(coins_name,coins_symbol)\n",
    "data_organize.analyze_sentiment()"
   ]
  },
  {
   "cell_type": "code",
   "execution_count": 6,
   "metadata": {},
   "outputs": [
    {
     "name": "stdout",
     "output_type": "stream",
     "text": [
      "2023-11-16\n",
      "0.6929702171428571\n",
      "2023-11-16\n",
      "0.4393422000000001\n",
      "2023-11-16\n",
      "0.1305186587470295\n",
      "2023-11-16\n",
      "0.3977081616783801\n",
      "2023-11-16\n",
      "None\n",
      "2023-11-16\n",
      "0.23869197203448278\n",
      "2023-11-16\n",
      "0.35205505791024005\n",
      "2023-11-16\n",
      "None\n",
      "2023-11-16\n",
      "0.367272104239\n",
      "2023-11-16\n",
      "0.32839833999857826\n",
      "2023-11-16\n",
      "None\n"
     ]
    },
    {
     "name": "stderr",
     "output_type": "stream",
     "text": [
      "d:\\University\\researches\\fazli\\code\\crypto_sentiment\\portfolio_manager.py:16: SettingWithCopyWarning: \n",
      "A value is trying to be set on a copy of a slice from a DataFrame.\n",
      "Try using .loc[row_indexer,col_indexer] = value instead\n",
      "\n",
      "See the caveats in the documentation: https://pandas.pydata.org/pandas-docs/stable/user_guide/indexing.html#returning-a-view-versus-a-copy\n",
      "  coin_data['Day'] = pd.to_datetime(coin_data['Day'])\n"
     ]
    }
   ],
   "source": [
    "from datetime import datetime\n",
    "from importlib import reload\n",
    "import portfolio_manager\n",
    "reload(portfolio_manager)\n",
    "portfolio = portfolio_manager.PortfolioManager(coins_list,data_organize.data)\n",
    "# Input string\n",
    "date_string = \"17 November 2023\"\n",
    "\n",
    "# Convert string to date\n",
    "current_date = pd.to_datetime(date_string, format=\"%d %B %Y\")\n",
    "weights = portfolio.getWeights(current_date)"
   ]
  },
  {
   "cell_type": "code",
   "execution_count": 7,
   "metadata": {},
   "outputs": [
    {
     "name": "stdout",
     "output_type": "stream",
     "text": [
      "            Date   ADA-USD   AVAX-USD     BNB-USD       BTC-USD  DOGE-USD  \\\n",
      "222   2021-05-02  1.351402  31.794001  619.972107  57825.863281  0.391087   \n",
      "223   2021-05-03  1.326938  31.324923  621.902710  56620.273438  0.373631   \n",
      "224   2021-05-04  1.362939  35.876583  676.315918  57214.179688  0.440274   \n",
      "225   2021-05-05  1.270986  30.292955  609.331055  53252.164062  0.537355   \n",
      "226   2021-05-06  1.478110  35.253933  651.049500  57441.308594  0.652842   \n",
      "...          ...       ...        ...         ...           ...       ...   \n",
      "1195  2023-12-31  0.601898  39.390301  317.068146  42152.097656  0.090146   \n",
      "1196  2024-01-01  0.594187  38.558670  312.385925  42280.234375  0.089473   \n",
      "1197  2024-01-02  0.623141  41.869736  314.267548  44187.140625  0.092037   \n",
      "1198  2024-01-03  0.605669  40.645931  312.151611  44961.601562  0.091205   \n",
      "1199  2024-01-04  0.557277  36.795128  316.624451  42855.816406  0.082049   \n",
      "\n",
      "        DOT-USD      ETH-USD  MATIC-USD     SOL-USD   TRX-USD   XRP-USD  \n",
      "222   36.897781  2945.560059   0.785502   49.500805  0.131055  1.651960  \n",
      "223   36.639145  2951.175781   0.822579   46.903976  0.127648  1.562493  \n",
      "224   37.256771  3431.131592   0.795066   45.983360  0.131698  1.555954  \n",
      "225   34.767815  3240.554688   0.703297   42.637238  0.119182  1.388070  \n",
      "226   40.442459  3524.930908   0.809184   44.974052  0.146491  1.615507  \n",
      "...         ...          ...        ...         ...       ...       ...  \n",
      "1195   8.369000  2291.945312   0.952975  101.844177  0.105981  0.621792  \n",
      "1196   8.201031  2282.870361   0.970629  101.512810  0.107687  0.615656  \n",
      "1197   8.599174  2352.593506   1.015718  109.549065  0.107817  0.630094  \n",
      "1198   8.412877  2355.981445   0.969739  106.616531  0.108372  0.625381  \n",
      "1199   7.641465  2210.529053   0.855390   98.586975  0.106821  0.582577  \n",
      "\n",
      "[978 rows x 12 columns]\n"
     ]
    },
    {
     "name": "stderr",
     "output_type": "stream",
     "text": [
      "c:\\Users\\Asus\\AppData\\Local\\Programs\\Python\\Python39\\lib\\site-packages\\pandas\\core\\ops\\array_ops.py:73: FutureWarning: Comparison of Timestamp with datetime.date is deprecated in order to match the standard library behavior.  In a future version these will be considered non-comparable.Use 'ts == pd.Timestamp(date)' or 'ts.date() == date' instead.\n",
      "  result = libops.scalar_compare(x.ravel(), y, op)\n"
     ]
    }
   ],
   "source": [
    "\n",
    "weights = {key + '-USD': value*100 for key, value in weights.items()}\n",
    "average_index = {}\n",
    "for coin in coins_list:\n",
    "  coin_symbol = coin['symbol']\n",
    "  average_index[coin_symbol] = 1/len(coins_list)\n",
    "\n",
    "average_index = {key + '-USD': value*100 for key, value in average_index.items()}\n",
    "\n",
    "members = []\n",
    "members+=average_index.keys()\n",
    "\n",
    "\n",
    "def PortfolioCalc(weightings, data, name):\n",
    "  data[name] = sum([  int(weightings[x])*data[x]/100 for x in list(weightings.keys())   ])\n",
    "  return data\n",
    "\n",
    "basedata = yf.Ticker(members[0]).history(period=\"max\").reset_index()[[\"Date\",\"Open\"]]\n",
    "basedata[\"Date\"] = pd.to_datetime(basedata[\"Date\"])\n",
    "basedata[\"Date\"] = basedata[\"Date\"].dt.date\n",
    "basedata = basedata.rename(columns = {\"Open\":members[0]})\n",
    "if (len(members)>1):\n",
    "  for x in range(1,len(members)):\n",
    "    newdata = yf.Ticker(members[x]).history(period=\"max\").reset_index()[[\"Date\",\"Open\"]]\n",
    "    newdata[\"Date\"] = pd.to_datetime(newdata[\"Date\"])\n",
    "    newdata[\"Date\"] = newdata[\"Date\"].dt.date\n",
    "    newdata = newdata.rename(columns = {\"Open\":members[x]})\n",
    "    basedata = pd.merge(basedata, newdata, on=\"Date\")\n",
    "\n",
    "basedata = basedata[  basedata[\"Date\"] > pd.to_datetime(\"2021-05-01\")]\n",
    "print(basedata)"
   ]
  },
  {
   "cell_type": "code",
   "execution_count": 9,
   "metadata": {},
   "outputs": [],
   "source": [
    "for x in members:\n",
    "  basedata[x] = basedata[x]/(basedata[x].iloc[0])\n",
    "\n",
    "basedata = PortfolioCalc(weights, basedata, \"crypto1\")\n",
    "basedata = PortfolioCalc(average_index, basedata, \"crypto2\")"
   ]
  },
  {
   "cell_type": "code",
   "execution_count": 11,
   "metadata": {},
   "outputs": [
    {
     "name": "stdout",
     "output_type": "stream",
     "text": [
      "The history saving thread hit an unexpected error (OperationalError('database or disk is full')).History will not be written to the database.\n"
     ]
    },
    {
     "data": {
      "image/png": "[encoded data removed]",
      "text/plain": [
       "<Figure size 432x288 with 1 Axes>"
      ]
     },
     "metadata": {},
     "output_type": "display_data"
    }
   ],
   "source": [
    "plt.style.use(\"dark_background\")\n",
    "\n",
    "plt.plot(basedata[\"Date\"], basedata[\"crypto1\"], label = ', '.join(weights.keys()))\n",
    "plt.plot(basedata[\"Date\"], basedata[\"crypto2\"], label = \"??\")\n",
    "\n",
    "plt.legend(loc=\"upper left\")\n",
    "plt.show()"
   ]
  }
 ],
 "metadata": {
  "kernelspec": {
   "display_name": "Python 3",
   "language": "python",
   "name": "python3"
  },
  "language_info": {
   "codemirror_mode": {
    "name": "ipython",
    "version": 3
   },
   "file_extension": ".py",
   "mimetype": "text/x-python",
   "name": "python",
   "nbconvert_exporter": "python",
   "pygments_lexer": "ipython3",
   "version": "3.9.6"
  },
  "orig_nbformat": 4
 },
 "nbformat": 4,
 "nbformat_minor": 2
}
