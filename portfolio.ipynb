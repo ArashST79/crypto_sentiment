{
 "cells": [
  {
   "cell_type": "code",
   "execution_count": 1,
   "metadata": {},
   "outputs": [
    {
     "name": "stderr",
     "output_type": "stream",
     "text": [
      "c:\\Users\\Asus\\AppData\\Local\\Programs\\Python\\Python39\\lib\\site-packages\\requests\\__init__.py:102: RequestsDependencyWarning: urllib3 (1.26.18) or chardet (5.2.0)/charset_normalizer (2.0.12) doesn't match a supported version!\n",
      "  warnings.warn(\"urllib3 ({}) or chardet ({})/charset_normalizer ({}) doesn't match a supported \"\n"
     ]
    }
   ],
   "source": [
    "import yfinance as yf\n",
    "import matplotlib.pyplot as plt\n",
    "import pandas as pd\n",
    "import json\n",
    "from data_analysis import DataOrganize\n",
    "from portfolio_manager import PortfolioManager\n",
    "from coins import get_top_coins"
   ]
  },
  {
   "cell_type": "code",
   "execution_count": 2,
   "metadata": {},
   "outputs": [
    {
     "name": "stdout",
     "output_type": "stream",
     "text": [
      "name\n",
      "type\n",
      "id\n",
      "messages\n"
     ]
    }
   ],
   "source": [
    "f = open('./Telegram_Data/result.json', encoding='utf8')\n",
    "data = json.load(f)\n",
    "for key in data.keys():\n",
    "    print(key)"
   ]
  },
  {
   "cell_type": "code",
   "execution_count": 3,
   "metadata": {},
   "outputs": [
    {
     "name": "stderr",
     "output_type": "stream",
     "text": [
      "100%|██████████| 1000/1000 [00:18<00:00, 54.74it/s]\n",
      "100%|██████████| 732/732 [00:00<00:00, 26352.78it/s]\n"
     ]
    }
   ],
   "source": [
    "df = pd.DataFrame(data['messages'])\n",
    "df = df.iloc[0:1000]\n",
    "data_organize = DataOrganize(df)\n",
    "data_organize.clean_data()\n",
    "top_coins_number = 10"
   ]
  },
  {
   "cell_type": "code",
   "execution_count": 4,
   "metadata": {},
   "outputs": [],
   "source": [
    "coins_list = get_top_coins(top_coins_number)"
   ]
  },
  {
   "cell_type": "code",
   "execution_count": 5,
   "metadata": {},
   "outputs": [
    {
     "name": "stderr",
     "output_type": "stream",
     "text": [
      "100%|██████████| 58/58 [00:00<00:00, 4132.18it/s]\n"
     ]
    }
   ],
   "source": [
    "\n",
    "coins_name = [coin['name'] for coin in coins_list]\n",
    "coins_symbol = [coin['symbol'] for coin in coins_list]\n",
    "data_organize.filter_by_coin(coins_name,coins_symbol)\n",
    "data_organize.analyze_sentiment()"
   ]
  },
  {
   "cell_type": "code",
   "execution_count": 6,
   "metadata": {},
   "outputs": [
    {
     "name": "stderr",
     "output_type": "stream",
     "text": [
      "d:\\University\\researches\\fazli\\code\\crypto_sentiment\\portfolio_manager.py:16: SettingWithCopyWarning: \n",
      "A value is trying to be set on a copy of a slice from a DataFrame.\n",
      "Try using .loc[row_indexer,col_indexer] = value instead\n",
      "\n",
      "See the caveats in the documentation: https://pandas.pydata.org/pandas-docs/stable/user_guide/indexing.html#returning-a-view-versus-a-copy\n",
      "  coin_data['date'] = pd.to_datetime(coin_data['date'])\n"
     ]
    }
   ],
   "source": [
    "from datetime import datetime\n",
    "from importlib import reload\n",
    "import portfolio_manager\n",
    "reload(portfolio_manager)\n",
    "portfolio = portfolio_manager.PortfolioManager(coins_list,data_organize.data)\n",
    "# Input string\n",
    "date_string = \"2 May 2021\"\n",
    "\n",
    "# Convert string to date\n",
    "current_date = pd.to_datetime(date_string, format=\"%d %B %Y\")\n",
    "weights = portfolio.getWeights(current_date)"
   ]
  },
  {
   "cell_type": "code",
   "execution_count": 7,
   "metadata": {},
   "outputs": [
    {
     "name": "stdout",
     "output_type": "stream",
     "text": [
      "            Date       BTC-USD      ETH-USD  USDT-USD   XRP-USD     BNB-USD  \\\n",
      "224   2021-05-02  57825.863281  2945.560059  0.999912  1.651960  619.972107   \n",
      "225   2021-05-03  56620.273438  2951.175781  0.999959  1.562493  621.902710   \n",
      "226   2021-05-04  57214.179688  3431.131592  0.999931  1.555954  676.315918   \n",
      "227   2021-05-05  53252.164062  3240.554688  0.999983  1.388070  609.331055   \n",
      "228   2021-05-06  57441.308594  3524.930908  1.000069  1.615507  651.049500   \n",
      "...          ...           ...          ...       ...       ...         ...   \n",
      "1170  2023-12-04  39978.628906  2193.663330  1.000307  0.623676  228.075470   \n",
      "1171  2023-12-05  41986.265625  2243.092529  0.999974  0.624396  233.308655   \n",
      "1172  2023-12-06  44080.023438  2293.628174  1.000220  0.621962  231.263443   \n",
      "1173  2023-12-07  43769.132812  2233.217773  1.000011  0.640487  229.532211   \n",
      "1174  2023-12-08  43293.136719  2357.169189  1.000372  0.643668  232.960495   \n",
      "\n",
      "        SOL-USD  USDC-USD   ADA-USD  DOGE-USD   AVAX-USD  \n",
      "224   49.500805  1.000111  1.351402  0.391087  31.794001  \n",
      "225   46.903976  0.999976  1.326938  0.373631  31.324923  \n",
      "226   45.983360  1.000138  1.362939  0.440274  35.876583  \n",
      "227   42.637238  0.999939  1.270986  0.537355  30.292955  \n",
      "228   44.974052  0.999817  1.478110  0.652842  35.253933  \n",
      "...         ...       ...       ...       ...        ...  \n",
      "1170  63.037769  0.999902  0.395192  0.085617  21.967602  \n",
      "1171  61.529175  0.999973  0.406820  0.091921  22.637991  \n",
      "1172  60.979866  1.000013  0.425606  0.094248  24.482794  \n",
      "1173  61.934044  0.999977  0.442458  0.094891  26.225248  \n",
      "1174  67.846718  1.000017  0.456428  0.095914  26.303242  \n",
      "\n",
      "[951 rows x 11 columns]\n"
     ]
    },
    {
     "name": "stderr",
     "output_type": "stream",
     "text": [
      "c:\\Users\\Asus\\AppData\\Local\\Programs\\Python\\Python39\\lib\\site-packages\\pandas\\core\\ops\\array_ops.py:73: FutureWarning: Comparison of Timestamp with datetime.date is deprecated in order to match the standard library behavior.  In a future version these will be considered non-comparable.Use 'ts == pd.Timestamp(date)' or 'ts.date() == date' instead.\n",
      "  result = libops.scalar_compare(x.ravel(), y, op)\n"
     ]
    }
   ],
   "source": [
    "\n",
    "weights = {key + '-USD': value*100 for key, value in weights.items()}\n",
    "average_index = {}\n",
    "top_coins = get_top_coins(top_coins_number)\n",
    "for coin in top_coins:\n",
    "  coin_symbol = coin['symbol']\n",
    "  average_index[coin_symbol] = 1/top_coins_number\n",
    "\n",
    "average_index = {key + '-USD': value*100 for key, value in average_index.items()}\n",
    "\n",
    "members = []\n",
    "members+=average_index.keys()\n",
    "\n",
    "\n",
    "def PortfolioCalc(weightings, data, name):\n",
    "  data[name] = sum([  int(weightings[x])*data[x]/100 for x in list(weightings.keys())   ])\n",
    "  return data\n",
    "\n",
    "basedata = yf.Ticker(members[0]).history(period=\"max\").reset_index()[[\"Date\",\"Open\"]]\n",
    "basedata[\"Date\"] = pd.to_datetime(basedata[\"Date\"])\n",
    "basedata[\"Date\"] = basedata[\"Date\"].dt.date\n",
    "basedata = basedata.rename(columns = {\"Open\":members[0]})\n",
    "if (len(members)>1):\n",
    "  for x in range(1,len(members)):\n",
    "    newdata = yf.Ticker(members[x]).history(period=\"max\").reset_index()[[\"Date\",\"Open\"]]\n",
    "    newdata[\"Date\"] = pd.to_datetime(newdata[\"Date\"])\n",
    "    newdata[\"Date\"] = newdata[\"Date\"].dt.date\n",
    "    newdata = newdata.rename(columns = {\"Open\":members[x]})\n",
    "    basedata = pd.merge(basedata, newdata, on=\"Date\")\n",
    "\n",
    "basedata = basedata[  basedata[\"Date\"] > pd.to_datetime(\"2021-05-01\")]\n",
    "print(basedata)"
   ]
  },
  {
   "cell_type": "code",
   "execution_count": 8,
   "metadata": {},
   "outputs": [],
   "source": [
    "for x in members:\n",
    "  basedata[x] = basedata[x]/(basedata[x].iloc[0])\n",
    "\n",
    "basedata = PortfolioCalc(weights, basedata, \"crypto1\")\n",
    "basedata = PortfolioCalc(average_index, basedata, \"crypto2\")"
   ]
  },
  {
   "cell_type": "code",
   "execution_count": 9,
   "metadata": {},
   "outputs": [
    {
     "data": {
      "image/png": "[encoded data removed]",
      "text/plain": [
       "<Figure size 432x288 with 1 Axes>"
      ]
     },
     "metadata": {
      "needs_background": "dark"
     },
     "output_type": "display_data"
    }
   ],
   "source": [
    "plt.style.use(\"dark_background\")\n",
    "\n",
    "plt.plot(basedata[\"Date\"], basedata[\"crypto1\"], label = \"100% s&p500\")\n",
    "plt.plot(basedata[\"Date\"], basedata[\"crypto2\"], label = \"??\")\n",
    "\n",
    "plt.legend(loc=\"upper left\")\n",
    "plt.show()"
   ]
  }
 ],
 "metadata": {
  "kernelspec": {
   "display_name": "Python 3",
   "language": "python",
   "name": "python3"
  },
  "language_info": {
   "codemirror_mode": {
    "name": "ipython",
    "version": 3
   },
   "file_extension": ".py",
   "mimetype": "text/x-python",
   "name": "python",
   "nbconvert_exporter": "python",
   "pygments_lexer": "ipython3",
   "version": "3.9.6"
  },
  "orig_nbformat": 4
 },
 "nbformat": 4,
 "nbformat_minor": 2
}
